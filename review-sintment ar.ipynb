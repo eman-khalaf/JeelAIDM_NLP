{
 "cells": [
  {
   "cell_type": "code",
   "execution_count": 23,
   "id": "f1e77b5c",
   "metadata": {},
   "outputs": [],
   "source": [
    "import pandas as pd\n",
    "import numpy as np\n"
   ]
  },
  {
   "cell_type": "code",
   "execution_count": 16,
   "id": "3d9d2501",
   "metadata": {},
   "outputs": [
    {
     "name": "stdout",
     "output_type": "stream",
     "text": [
      "Requirement already satisfied: ar_wordcloud in c:\\users\\emz\\anaconda3\\lib\\site-packages (0.0.4)\n",
      "Requirement already satisfied: python-bidi>=0.4.2 in c:\\users\\emz\\anaconda3\\lib\\site-packages (from ar_wordcloud) (0.4.2)\n",
      "Requirement already satisfied: requests in c:\\users\\emz\\anaconda3\\lib\\site-packages (from ar_wordcloud) (2.27.1)\n",
      "Requirement already satisfied: wordcloud>=1.7.0 in c:\\users\\emz\\anaconda3\\lib\\site-packages (from ar_wordcloud) (1.8.2.2)\n",
      "Requirement already satisfied: arabic_reshaper>=2.0.14 in c:\\users\\emz\\anaconda3\\lib\\site-packages (from ar_wordcloud) (2.1.4)\n",
      "Requirement already satisfied: future in c:\\users\\emz\\anaconda3\\lib\\site-packages (from arabic_reshaper>=2.0.14->ar_wordcloud) (0.18.2)\n",
      "Requirement already satisfied: six in c:\\users\\emz\\anaconda3\\lib\\site-packages (from python-bidi>=0.4.2->ar_wordcloud) (1.16.0)\n",
      "Requirement already satisfied: numpy>=1.6.1 in c:\\users\\emz\\anaconda3\\lib\\site-packages (from wordcloud>=1.7.0->ar_wordcloud) (1.21.5)\n",
      "Requirement already satisfied: pillow in c:\\users\\emz\\anaconda3\\lib\\site-packages (from wordcloud>=1.7.0->ar_wordcloud) (9.0.1)\n",
      "Requirement already satisfied: matplotlib in c:\\users\\emz\\anaconda3\\lib\\site-packages (from wordcloud>=1.7.0->ar_wordcloud) (3.5.1)\n",
      "Requirement already satisfied: urllib3<1.27,>=1.21.1 in c:\\users\\emz\\anaconda3\\lib\\site-packages (from requests->ar_wordcloud) (1.26.9)\n",
      "Requirement already satisfied: certifi>=2017.4.17 in c:\\users\\emz\\anaconda3\\lib\\site-packages (from requests->ar_wordcloud) (2022.6.15)\n",
      "Requirement already satisfied: idna<4,>=2.5 in c:\\users\\emz\\anaconda3\\lib\\site-packages (from requests->ar_wordcloud) (3.3)\n",
      "Requirement already satisfied: charset-normalizer~=2.0.0 in c:\\users\\emz\\anaconda3\\lib\\site-packages (from requests->ar_wordcloud) (2.0.4)\n",
      "Requirement already satisfied: packaging>=20.0 in c:\\users\\emz\\anaconda3\\lib\\site-packages (from matplotlib->wordcloud>=1.7.0->ar_wordcloud) (21.3)\n",
      "Requirement already satisfied: cycler>=0.10 in c:\\users\\emz\\anaconda3\\lib\\site-packages (from matplotlib->wordcloud>=1.7.0->ar_wordcloud) (0.11.0)\n",
      "Requirement already satisfied: python-dateutil>=2.7 in c:\\users\\emz\\anaconda3\\lib\\site-packages (from matplotlib->wordcloud>=1.7.0->ar_wordcloud) (2.8.2)\n",
      "Requirement already satisfied: pyparsing>=2.2.1 in c:\\users\\emz\\anaconda3\\lib\\site-packages (from matplotlib->wordcloud>=1.7.0->ar_wordcloud) (3.0.4)\n",
      "Requirement already satisfied: fonttools>=4.22.0 in c:\\users\\emz\\anaconda3\\lib\\site-packages (from matplotlib->wordcloud>=1.7.0->ar_wordcloud) (4.25.0)\n",
      "Requirement already satisfied: kiwisolver>=1.0.1 in c:\\users\\emz\\anaconda3\\lib\\site-packages (from matplotlib->wordcloud>=1.7.0->ar_wordcloud) (1.3.2)\n"
     ]
    }
   ],
   "source": [
    "#!pip install ar_wordcloud"
   ]
  },
  {
   "cell_type": "code",
   "execution_count": 11,
   "id": "060de7a0",
   "metadata": {},
   "outputs": [
    {
     "name": "stdout",
     "output_type": "stream",
     "text": [
      "Requirement already satisfied: tqdm in c:\\users\\emz\\anaconda3\\lib\\site-packages (4.64.0)\n",
      "Requirement already satisfied: colorama in c:\\users\\emz\\anaconda3\\lib\\site-packages (from tqdm) (0.4.4)\n",
      "Note: you may need to restart the kernel to use updated packages.\n"
     ]
    }
   ],
   "source": [
    "#pip install tqdm"
   ]
  },
  {
   "cell_type": "code",
   "execution_count": 12,
   "id": "f58bbe78",
   "metadata": {},
   "outputs": [
    {
     "name": "stderr",
     "output_type": "stream",
     "text": [
      "[nltk_data] Downloading package punkt to\n",
      "[nltk_data]     C:\\Users\\EMZ\\AppData\\Roaming\\nltk_data...\n",
      "[nltk_data]   Package punkt is already up-to-date!\n",
      "[nltk_data] Downloading package stopwords to\n",
      "[nltk_data]     C:\\Users\\EMZ\\AppData\\Roaming\\nltk_data...\n",
      "[nltk_data]   Package stopwords is already up-to-date!\n"
     ]
    }
   ],
   "source": [
    "import nltk\n",
    "nltk.download('punkt')\n",
    "nltk.download('stopwords')\n",
    "from nltk.corpus import stopwords\n",
    "from nltk.tokenize import  word_tokenize \n",
    "arabic_stop_words=stopwords.words('arabic')\n",
    "import matplotlib.pyplot as plt"
   ]
  },
  {
   "cell_type": "code",
   "execution_count": 2,
   "id": "a2feff81",
   "metadata": {},
   "outputs": [],
   "source": [
    "reviews = pd.read_csv('reviews.tsv', sep='\\t',names =[\"rating\",\"review_id\",\"user_id\",\"book_id\",\"review\"])"
   ]
  },
  {
   "cell_type": "code",
   "execution_count": 3,
   "id": "06bb0fca",
   "metadata": {},
   "outputs": [
    {
     "data": {
      "text/html": [
       "<div>\n",
       "<style scoped>\n",
       "    .dataframe tbody tr th:only-of-type {\n",
       "        vertical-align: middle;\n",
       "    }\n",
       "\n",
       "    .dataframe tbody tr th {\n",
       "        vertical-align: top;\n",
       "    }\n",
       "\n",
       "    .dataframe thead th {\n",
       "        text-align: right;\n",
       "    }\n",
       "</style>\n",
       "<table border=\"1\" class=\"dataframe\">\n",
       "  <thead>\n",
       "    <tr style=\"text-align: right;\">\n",
       "      <th></th>\n",
       "      <th>rating</th>\n",
       "      <th>review_id</th>\n",
       "      <th>user_id</th>\n",
       "      <th>book_id</th>\n",
       "      <th>review</th>\n",
       "    </tr>\n",
       "  </thead>\n",
       "  <tbody>\n",
       "    <tr>\n",
       "      <th>0</th>\n",
       "      <td>4</td>\n",
       "      <td>338670838</td>\n",
       "      <td>7878381</td>\n",
       "      <td>13431841</td>\n",
       "      <td>\"عزازيل الذي صنعناه ،الكامن في أنفسنا\" يذكرني...</td>\n",
       "    </tr>\n",
       "    <tr>\n",
       "      <th>1</th>\n",
       "      <td>4</td>\n",
       "      <td>39428407</td>\n",
       "      <td>1775679</td>\n",
       "      <td>3554772</td>\n",
       "      <td>من أمتع ما قرأت من روايات بلا شك. وحول الشك ت...</td>\n",
       "    </tr>\n",
       "  </tbody>\n",
       "</table>\n",
       "</div>"
      ],
      "text/plain": [
       "   rating  review_id  user_id   book_id  \\\n",
       "0       4  338670838  7878381  13431841   \n",
       "1       4   39428407  1775679   3554772   \n",
       "\n",
       "                                              review  \n",
       "0   \"عزازيل الذي صنعناه ،الكامن في أنفسنا\" يذكرني...  \n",
       "1   من أمتع ما قرأت من روايات بلا شك. وحول الشك ت...  "
      ]
     },
     "execution_count": 3,
     "metadata": {},
     "output_type": "execute_result"
    }
   ],
   "source": [
    "reviews.head(2)"
   ]
  },
  {
   "cell_type": "code",
   "execution_count": 5,
   "id": "66278ac5",
   "metadata": {},
   "outputs": [
    {
     "data": {
      "text/plain": [
       "(46391, 5)"
      ]
     },
     "execution_count": 5,
     "metadata": {},
     "output_type": "execute_result"
    }
   ],
   "source": [
    "reviews.shape"
   ]
  },
  {
   "cell_type": "code",
   "execution_count": 6,
   "id": "8f89575e",
   "metadata": {},
   "outputs": [
    {
     "data": {
      "text/plain": [
       "5    17776\n",
       "4    13798\n",
       "3     8784\n",
       "2     3803\n",
       "1     2230\n",
       "Name: rating, dtype: int64"
      ]
     },
     "execution_count": 6,
     "metadata": {},
     "output_type": "execute_result"
    }
   ],
   "source": [
    "reviews['rating'].value_counts()"
   ]
  },
  {
   "cell_type": "code",
   "execution_count": 8,
   "id": "6dc37602",
   "metadata": {},
   "outputs": [
    {
     "data": {
      "text/plain": [
       "<AxesSubplot:ylabel='Frequency'>"
      ]
     },
     "execution_count": 8,
     "metadata": {},
     "output_type": "execute_result"
    },
    {
     "data": {
      "image/png": "[encoded data removed]",
      "text/plain": [
       "<Figure size 432x288 with 1 Axes>"
      ]
     },
     "metadata": {
      "needs_background": "light"
     },
     "output_type": "display_data"
    }
   ],
   "source": [
    "reviews['rating'].plot.hist(bins=5)"
   ]
  },
  {
   "cell_type": "code",
   "execution_count": 10,
   "id": "98c4ba99",
   "metadata": {},
   "outputs": [],
   "source": [
    "import re\n",
    "# Clean/Normalize Arabic Text\n",
    "def clean_str(text):\n",
    "    search = [\"أ\",\"إ\",\"آ\",\"ة\",\"_\",\"-\",\"/\",\".\",\"،\",\" و \",\" يا \",'\"',\"ـ\",\"'\",\"ى\",\"\\\\\",'\\n', '\\t','&quot;','?','؟','!']\n",
    "    replace = [\"ا\",\"ا\",\"ا\",\"ه\",\" \",\" \",\"\",\"\",\"\",\" و\",\" يا\",\"\",\"\",\"\",\"ي\",\"\",' ', ' ',' ',' ? ',' ؟ ',' ! ']\n",
    "    \n",
    "    #remove tashkeel\n",
    "    p_tashkeel = re.compile(r'[\\u0617-\\u061A\\u064B-\\u0652]')\n",
    "    text = re.sub(p_tashkeel,\"\", text)\n",
    "    \n",
    "    #remove longation\n",
    "    p_longation = re.compile(r'(.)\\1+')\n",
    "    subst = r\"\\1\\1\"\n",
    "    text = re.sub(p_longation, subst, text)\n",
    "    \n",
    "    text = text.replace('وو', 'و')\n",
    "    text = text.replace('يي', 'ي')\n",
    "    text = text.replace('اا', 'ا')\n",
    "    \n",
    "    for i in range(0, len(search)):\n",
    "        text = text.replace(search[i], replace[i])\n",
    "    \n",
    "    #trim    \n",
    "    text = text.strip()\n",
    "\n",
    "    return text"
   ]
  },
  {
   "cell_type": "code",
   "execution_count": 13,
   "id": "932f10d8",
   "metadata": {},
   "outputs": [
    {
     "name": "stdout",
     "output_type": "stream",
     "text": [
      "Collecting qalsadi\n",
      "  Downloading qalsadi-0.4.5-py3-none-any.whl (256 kB)\n",
      "     ------------------------------------ 256.4/256.4 kB 583.4 kB/s eta 0:00:00\n",
      "Collecting alyahmor>=0.1\n",
      "  Downloading alyahmor-0.1.5-py3-none-any.whl (51 kB)\n",
      "     -------------------------------------- 51.7/51.7 kB 669.1 kB/s eta 0:00:00\n",
      "Collecting libqutrub>=1.2.3\n",
      "  Downloading libqutrub-1.2.4.1-py3-none-any.whl (138 kB)\n",
      "     ------------------------------------ 139.0/139.0 kB 684.9 kB/s eta 0:00:00\n",
      "Requirement already satisfied: pyarabic>=0.6.7 in c:\\users\\emz\\anaconda3\\lib\\site-packages (from qalsadi) (0.6.15)\n",
      "Collecting naftawayh>=0.3\n",
      "  Downloading Naftawayh-0.4-py3-none-any.whl (332 kB)\n",
      "     ------------------------------------ 332.6/332.6 kB 573.5 kB/s eta 0:00:00\n",
      "Requirement already satisfied: future>=0.16.0 in c:\\users\\emz\\anaconda3\\lib\\site-packages (from qalsadi) (0.18.2)\n",
      "Collecting Arabic-Stopwords>=0.3\n",
      "  Downloading Arabic_Stopwords-0.3-py3-none-any.whl (353 kB)\n",
      "     ------------------------------------ 353.0/353.0 kB 609.9 kB/s eta 0:00:00\n",
      "Requirement already satisfied: tashaphyne>=0.3.4.1 in c:\\users\\emz\\anaconda3\\lib\\site-packages (from qalsadi) (0.3.6)\n",
      "Requirement already satisfied: six>=1.10.0 in c:\\users\\emz\\anaconda3\\lib\\site-packages (from qalsadi) (1.16.0)\n",
      "Collecting arramooz-pysqlite>=0.3\n",
      "  Downloading arramooz_pysqlite-0.3-py3-none-any.whl (9.2 MB)\n",
      "     ---------------------------------------- 9.2/9.2 MB 696.3 kB/s eta 0:00:00\n",
      "Collecting pickledb>=0.9.2\n",
      "  Downloading pickleDB-0.9.2.tar.gz (3.7 kB)\n",
      "  Preparing metadata (setup.py): started\n",
      "  Preparing metadata (setup.py): finished with status 'done'\n",
      "Building wheels for collected packages: pickledb\n",
      "  Building wheel for pickledb (setup.py): started\n",
      "  Building wheel for pickledb (setup.py): finished with status 'done'\n",
      "  Created wheel for pickledb: filename=pickleDB-0.9.2-py3-none-any.whl size=4271 sha256=0d753b1266a73e6d9c43422b3a4ff24cdbd3adf06ddc1a67918827caf3a3a6b7\n",
      "  Stored in directory: c:\\users\\emz\\appdata\\local\\pip\\cache\\wheels\\d9\\eb\\d9\\69d8f166b1483ad069ebe839147464a878fa0046a6c13c694c\n",
      "Successfully built pickledb\n",
      "Installing collected packages: pickledb, libqutrub, arramooz-pysqlite, Arabic-Stopwords, naftawayh, alyahmor, qalsadi\n",
      "Successfully installed Arabic-Stopwords-0.3 alyahmor-0.1.5 arramooz-pysqlite-0.3 libqutrub-1.2.4.1 naftawayh-0.4 pickledb-0.9.2 qalsadi-0.4.5\n"
     ]
    }
   ],
   "source": [
    "!pip install qalsadi\n",
    "import qalsadi.lemmatizer\n",
    "lemmer = qalsadi.lemmatizer.Lemmatizer()\n",
    "\n",
    "def remove_sw(text):\n",
    "  filtered_sentence=\"\"\n",
    "  for w in word_tokenize(text):\n",
    "    w=lemmer.lemmatize_text(w)[0]\n",
    "    if w not in set(arabic_stop_words):\n",
    "      filtered_sentence+=w+\" \"\n",
    "  return filtered_sentence"
   ]
  },
  {
   "cell_type": "code",
   "execution_count": 14,
   "id": "cab59023",
   "metadata": {},
   "outputs": [
    {
     "name": "stderr",
     "output_type": "stream",
     "text": [
      "100%|██████████| 46391/46391 [4:03:34<00:00,  3.17it/s]   \n"
     ]
    },
    {
     "data": {
      "text/html": [
       "<div>\n",
       "<style scoped>\n",
       "    .dataframe tbody tr th:only-of-type {\n",
       "        vertical-align: middle;\n",
       "    }\n",
       "\n",
       "    .dataframe tbody tr th {\n",
       "        vertical-align: top;\n",
       "    }\n",
       "\n",
       "    .dataframe thead th {\n",
       "        text-align: right;\n",
       "    }\n",
       "</style>\n",
       "<table border=\"1\" class=\"dataframe\">\n",
       "  <thead>\n",
       "    <tr style=\"text-align: right;\">\n",
       "      <th></th>\n",
       "      <th>rating</th>\n",
       "      <th>review_id</th>\n",
       "      <th>user_id</th>\n",
       "      <th>book_id</th>\n",
       "      <th>review</th>\n",
       "      <th>cleaned_text</th>\n",
       "    </tr>\n",
       "  </thead>\n",
       "  <tbody>\n",
       "    <tr>\n",
       "      <th>0</th>\n",
       "      <td>4</td>\n",
       "      <td>338670838</td>\n",
       "      <td>7878381</td>\n",
       "      <td>13431841</td>\n",
       "      <td>\"عزازيل الذي صنعناه ،الكامن في أنفسنا\" يذكرني...</td>\n",
       "      <td>عزازيل صنع كامن ذكر يوسف زيد بورخس استخدام حيل...</td>\n",
       "    </tr>\n",
       "    <tr>\n",
       "      <th>1</th>\n",
       "      <td>4</td>\n",
       "      <td>39428407</td>\n",
       "      <td>1775679</td>\n",
       "      <td>3554772</td>\n",
       "      <td>من أمتع ما قرأت من روايات بلا شك. وحول الشك ت...</td>\n",
       "      <td>متع قر روايات بلا شك حول شك دندن عزازيل بلا هو...</td>\n",
       "    </tr>\n",
       "    <tr>\n",
       "      <th>2</th>\n",
       "      <td>4</td>\n",
       "      <td>32159373</td>\n",
       "      <td>1304410</td>\n",
       "      <td>3554772</td>\n",
       "      <td>رواية تتخذ من التاريخ ،جوًا لها اختار المؤلف ...</td>\n",
       "      <td>روايه تاريخ جو اختار مؤلف فتر تاريخ ندر تناول ...</td>\n",
       "    </tr>\n",
       "    <tr>\n",
       "      <th>3</th>\n",
       "      <td>1</td>\n",
       "      <td>442326656</td>\n",
       "      <td>11333112</td>\n",
       "      <td>3554772</td>\n",
       "      <td>إني أقدّر هذه الرواية كثيرا، لسبب مختلف عن أس...</td>\n",
       "      <td>اني قدر الروايه كثير سب مختلف اسباب خر ال انها...</td>\n",
       "    </tr>\n",
       "    <tr>\n",
       "      <th>4</th>\n",
       "      <td>5</td>\n",
       "      <td>46492258</td>\n",
       "      <td>580165</td>\n",
       "      <td>3554772</td>\n",
       "      <td>الكاهن الذي أطلق على نفسه اسم هيبا تيمنا بالع...</td>\n",
       "      <td>كاهن طلق علي اسم هيب تيمن بالعالمه الوثنيه هيب...</td>\n",
       "    </tr>\n",
       "  </tbody>\n",
       "</table>\n",
       "</div>"
      ],
      "text/plain": [
       "   rating  review_id   user_id   book_id  \\\n",
       "0       4  338670838   7878381  13431841   \n",
       "1       4   39428407   1775679   3554772   \n",
       "2       4   32159373   1304410   3554772   \n",
       "3       1  442326656  11333112   3554772   \n",
       "4       5   46492258    580165   3554772   \n",
       "\n",
       "                                              review  \\\n",
       "0   \"عزازيل الذي صنعناه ،الكامن في أنفسنا\" يذكرني...   \n",
       "1   من أمتع ما قرأت من روايات بلا شك. وحول الشك ت...   \n",
       "2   رواية تتخذ من التاريخ ،جوًا لها اختار المؤلف ...   \n",
       "3   إني أقدّر هذه الرواية كثيرا، لسبب مختلف عن أس...   \n",
       "4   الكاهن الذي أطلق على نفسه اسم هيبا تيمنا بالع...   \n",
       "\n",
       "                                        cleaned_text  \n",
       "0  عزازيل صنع كامن ذكر يوسف زيد بورخس استخدام حيل...  \n",
       "1  متع قر روايات بلا شك حول شك دندن عزازيل بلا هو...  \n",
       "2  روايه تاريخ جو اختار مؤلف فتر تاريخ ندر تناول ...  \n",
       "3  اني قدر الروايه كثير سب مختلف اسباب خر ال انها...  \n",
       "4  كاهن طلق علي اسم هيب تيمن بالعالمه الوثنيه هيب...  "
      ]
     },
     "execution_count": 14,
     "metadata": {},
     "output_type": "execute_result"
    }
   ],
   "source": [
    "from tqdm import tqdm\n",
    "tqdm.pandas()\n",
    "reviews[\"cleaned_text\"]=reviews[\"review\"].progress_apply(lambda x:remove_sw(normalize(x)))\n",
    "reviews.head()"
   ]
  },
  {
   "cell_type": "code",
   "execution_count": 15,
   "id": "9c044fda",
   "metadata": {},
   "outputs": [],
   "source": [
    "reviews.to_csv(\"cleaned_reviews.csv\")"
   ]
  },
  {
   "cell_type": "code",
   "execution_count": 20,
   "id": "81bbd55f",
   "metadata": {},
   "outputs": [
    {
     "name": "stdout",
     "output_type": "stream",
     "text": [
      "The most common word with rating 4\n",
      "\n"
     ]
    },
    {
     "ename": "AssertionError",
     "evalue": "بالله أتأكد ان اسم الخط المُدخل صحيح\nPlease make sure the selected font name is correct!",
     "output_type": "error",
     "traceback": [
      "\u001b[1;31m---------------------------------------------------------------------------\u001b[0m",
      "\u001b[1;31mAssertionError\u001b[0m                            Traceback (most recent call last)",
      "Input \u001b[1;32mIn [20]\u001b[0m, in \u001b[0;36m<cell line: 2>\u001b[1;34m()\u001b[0m\n\u001b[0;32m      3\u001b[0m text\u001b[38;5;241m=\u001b[39mreviews[reviews[\u001b[38;5;124m'\u001b[39m\u001b[38;5;124mrating\u001b[39m\u001b[38;5;124m'\u001b[39m]\u001b[38;5;241m==\u001b[39mlabel][\u001b[38;5;124m\"\u001b[39m\u001b[38;5;124mcleaned_text\u001b[39m\u001b[38;5;124m\"\u001b[39m]\n\u001b[0;32m      4\u001b[0m \u001b[38;5;28mprint\u001b[39m(\u001b[38;5;124m\"\u001b[39m\u001b[38;5;124mThe most common word with rating \u001b[39m\u001b[38;5;124m\"\u001b[39m\u001b[38;5;241m+\u001b[39m\u001b[38;5;28mstr\u001b[39m(label)\u001b[38;5;241m+\u001b[39m\u001b[38;5;124m\"\u001b[39m\u001b[38;5;130;01m\\n\u001b[39;00m\u001b[38;5;124m\"\u001b[39m)\n\u001b[1;32m----> 5\u001b[0m awc \u001b[38;5;241m=\u001b[39m \u001b[43mArabicWordCloud\u001b[49m\u001b[43m(\u001b[49m\u001b[43mfont\u001b[49m\u001b[38;5;241;43m=\u001b[39;49m\u001b[38;5;124;43m'\u001b[39;49m\u001b[38;5;124;43mNotoSansArabic-ExtraBold.ttf\u001b[39;49m\u001b[38;5;124;43m'\u001b[39;49m\u001b[43m,\u001b[49m\u001b[43m  \u001b[49m\u001b[43mmax_font_size\u001b[49m\u001b[38;5;241;43m=\u001b[39;49m\u001b[38;5;241;43m35\u001b[39;49m\u001b[43m)\u001b[49m\n\u001b[0;32m      6\u001b[0m plt\u001b[38;5;241m.\u001b[39mfigure(figsize \u001b[38;5;241m=\u001b[39m (\u001b[38;5;241m10\u001b[39m,\u001b[38;5;241m10\u001b[39m))\n\u001b[0;32m      7\u001b[0m wc_ar \u001b[38;5;241m=\u001b[39m awc\u001b[38;5;241m.\u001b[39mfrom_text(\u001b[38;5;124mu\u001b[39m\u001b[38;5;124m'\u001b[39m\u001b[38;5;124m'\u001b[39m\u001b[38;5;241m.\u001b[39mjoin(text))\n",
      "File \u001b[1;32m~\\anaconda3\\lib\\site-packages\\ar_wordcloud\\ar_wordcloud.py:24\u001b[0m, in \u001b[0;36mArabicWordCloud.__init__\u001b[1;34m(self, font, **kwargs)\u001b[0m\n\u001b[0;32m     23\u001b[0m \u001b[38;5;28;01mdef\u001b[39;00m \u001b[38;5;21m__init__\u001b[39m(\u001b[38;5;28mself\u001b[39m, font: \u001b[38;5;28mstr\u001b[39m \u001b[38;5;241m=\u001b[39m \u001b[38;5;124m\"\u001b[39m\u001b[38;5;124mNotoNaskhArabic-Regular.ttf\u001b[39m\u001b[38;5;124m\"\u001b[39m, \u001b[38;5;241m*\u001b[39m\u001b[38;5;241m*\u001b[39mkwargs):\n\u001b[1;32m---> 24\u001b[0m     \u001b[38;5;28mself\u001b[39m\u001b[38;5;241m.\u001b[39mfonts \u001b[38;5;241m=\u001b[39m \u001b[43mArabicFonts\u001b[49m\u001b[43m(\u001b[49m\u001b[43mfont\u001b[49m\u001b[38;5;241;43m=\u001b[39;49m\u001b[43mfont\u001b[49m\u001b[43m)\u001b[49m\n\u001b[0;32m     25\u001b[0m     \u001b[38;5;28msuper\u001b[39m()\u001b[38;5;241m.\u001b[39m\u001b[38;5;21m__init__\u001b[39m(font_path\u001b[38;5;241m=\u001b[39m\u001b[38;5;28mself\u001b[39m\u001b[38;5;241m.\u001b[39mfonts\u001b[38;5;241m.\u001b[39mdefault_font, \u001b[38;5;241m*\u001b[39m\u001b[38;5;241m*\u001b[39mkwargs)\n\u001b[0;32m     26\u001b[0m     \u001b[38;5;28mself\u001b[39m\u001b[38;5;241m.\u001b[39mSTOPWORDS \u001b[38;5;241m=\u001b[39m STOPWORDS\n",
      "File \u001b[1;32m~\\anaconda3\\lib\\site-packages\\ar_wordcloud\\_fonts.py:30\u001b[0m, in \u001b[0;36mArabicFonts.__init__\u001b[1;34m(self, font)\u001b[0m\n\u001b[0;32m     28\u001b[0m     \u001b[38;5;28mself\u001b[39m\u001b[38;5;241m.\u001b[39m_download_zip_file(url)\n\u001b[0;32m     29\u001b[0m \u001b[38;5;28mself\u001b[39m\u001b[38;5;241m.\u001b[39mavailable_fonts \u001b[38;5;241m=\u001b[39m \u001b[38;5;28mlist\u001b[39m(\u001b[38;5;28mself\u001b[39m\u001b[38;5;241m.\u001b[39m_available_fonts\u001b[38;5;241m.\u001b[39mkeys())\n\u001b[1;32m---> 30\u001b[0m \u001b[38;5;28;01massert\u001b[39;00m font \u001b[38;5;129;01min\u001b[39;00m \u001b[38;5;28mself\u001b[39m\u001b[38;5;241m.\u001b[39mavailable_fonts \u001b[38;5;129;01mor\u001b[39;00m font \u001b[38;5;129;01mis\u001b[39;00m \u001b[38;5;124m\"\u001b[39m\u001b[38;5;124m\"\u001b[39m, \u001b[38;5;28mself\u001b[39m\u001b[38;5;241m.\u001b[39m_font_error\n\u001b[0;32m     31\u001b[0m \u001b[38;5;28mself\u001b[39m\u001b[38;5;241m.\u001b[39mdefault_font \u001b[38;5;241m=\u001b[39m \u001b[38;5;28mself\u001b[39m\u001b[38;5;241m.\u001b[39m_available_fonts[font] \u001b[38;5;28;01mif\u001b[39;00m font \u001b[38;5;28;01melse\u001b[39;00m \u001b[38;5;124m\"\u001b[39m\u001b[38;5;124m\"\u001b[39m\n",
      "\u001b[1;31mAssertionError\u001b[0m: بالله أتأكد ان اسم الخط المُدخل صحيح\nPlease make sure the selected font name is correct!"
     ]
    }
   ],
   "source": [
    "from ar_wordcloud import ArabicWordCloud\n",
    "for label in reviews['rating'].unique():\n",
    "  text=reviews[reviews['rating']==label][\"cleaned_text\"]\n",
    "  print(\"The most common word with rating \"+str(label)+\"\\n\")\n",
    "  awc = ArabicWordCloud(font='NotoSansArabic-ExtraBold.ttf',  max_font_size=35)\n",
    "  plt.figure(figsize = (10,10))\n",
    "  wc_ar = awc.from_text(u''.join(text))\n",
    "  plt.imshow(wc_ar, cmap=None)\n",
    "  plt.show()"
   ]
  },
  {
   "cell_type": "markdown",
   "id": "ccb53f2c",
   "metadata": {},
   "source": []
  },
  {
   "cell_type": "code",
   "execution_count": 21,
   "id": "572050d7",
   "metadata": {},
   "outputs": [],
   "source": [
    "from sklearn.feature_extraction.text import CountVectorizer\n",
    "countvec = CountVectorizer()\n",
    "cdf = countvec.fit_transform(reviews['cleaned_text'])\n"
   ]
  },
  {
   "cell_type": "code",
   "execution_count": 24,
   "id": "ccc7dff0",
   "metadata": {},
   "outputs": [
    {
     "ename": "MemoryError",
     "evalue": "Unable to allocate 26.2 GiB for an array with shape (46391, 75658) and data type int64",
     "output_type": "error",
     "traceback": [
      "\u001b[1;31m---------------------------------------------------------------------------\u001b[0m",
      "\u001b[1;31mMemoryError\u001b[0m                               Traceback (most recent call last)",
      "Input \u001b[1;32mIn [24]\u001b[0m, in \u001b[0;36m<cell line: 1>\u001b[1;34m()\u001b[0m\n\u001b[1;32m----> 1\u001b[0m cvec \u001b[38;5;241m=\u001b[39m pd\u001b[38;5;241m.\u001b[39mDataFrame(\u001b[43mcdf\u001b[49m\u001b[38;5;241;43m.\u001b[39;49m\u001b[43mtoarray\u001b[49m\u001b[43m(\u001b[49m\u001b[43m)\u001b[49m, columns \u001b[38;5;241m=\u001b[39m countvec\u001b[38;5;241m.\u001b[39mget_feature_names())\n",
      "File \u001b[1;32m~\\anaconda3\\lib\\site-packages\\scipy\\sparse\\compressed.py:1039\u001b[0m, in \u001b[0;36m_cs_matrix.toarray\u001b[1;34m(self, order, out)\u001b[0m\n\u001b[0;32m   1037\u001b[0m \u001b[38;5;28;01mif\u001b[39;00m out \u001b[38;5;129;01mis\u001b[39;00m \u001b[38;5;28;01mNone\u001b[39;00m \u001b[38;5;129;01mand\u001b[39;00m order \u001b[38;5;129;01mis\u001b[39;00m \u001b[38;5;28;01mNone\u001b[39;00m:\n\u001b[0;32m   1038\u001b[0m     order \u001b[38;5;241m=\u001b[39m \u001b[38;5;28mself\u001b[39m\u001b[38;5;241m.\u001b[39m_swap(\u001b[38;5;124m'\u001b[39m\u001b[38;5;124mcf\u001b[39m\u001b[38;5;124m'\u001b[39m)[\u001b[38;5;241m0\u001b[39m]\n\u001b[1;32m-> 1039\u001b[0m out \u001b[38;5;241m=\u001b[39m \u001b[38;5;28;43mself\u001b[39;49m\u001b[38;5;241;43m.\u001b[39;49m\u001b[43m_process_toarray_args\u001b[49m\u001b[43m(\u001b[49m\u001b[43morder\u001b[49m\u001b[43m,\u001b[49m\u001b[43m \u001b[49m\u001b[43mout\u001b[49m\u001b[43m)\u001b[49m\n\u001b[0;32m   1040\u001b[0m \u001b[38;5;28;01mif\u001b[39;00m \u001b[38;5;129;01mnot\u001b[39;00m (out\u001b[38;5;241m.\u001b[39mflags\u001b[38;5;241m.\u001b[39mc_contiguous \u001b[38;5;129;01mor\u001b[39;00m out\u001b[38;5;241m.\u001b[39mflags\u001b[38;5;241m.\u001b[39mf_contiguous):\n\u001b[0;32m   1041\u001b[0m     \u001b[38;5;28;01mraise\u001b[39;00m \u001b[38;5;167;01mValueError\u001b[39;00m(\u001b[38;5;124m'\u001b[39m\u001b[38;5;124mOutput array must be C or F contiguous\u001b[39m\u001b[38;5;124m'\u001b[39m)\n",
      "File \u001b[1;32m~\\anaconda3\\lib\\site-packages\\scipy\\sparse\\base.py:1202\u001b[0m, in \u001b[0;36mspmatrix._process_toarray_args\u001b[1;34m(self, order, out)\u001b[0m\n\u001b[0;32m   1200\u001b[0m     \u001b[38;5;28;01mreturn\u001b[39;00m out\n\u001b[0;32m   1201\u001b[0m \u001b[38;5;28;01melse\u001b[39;00m:\n\u001b[1;32m-> 1202\u001b[0m     \u001b[38;5;28;01mreturn\u001b[39;00m \u001b[43mnp\u001b[49m\u001b[38;5;241;43m.\u001b[39;49m\u001b[43mzeros\u001b[49m\u001b[43m(\u001b[49m\u001b[38;5;28;43mself\u001b[39;49m\u001b[38;5;241;43m.\u001b[39;49m\u001b[43mshape\u001b[49m\u001b[43m,\u001b[49m\u001b[43m \u001b[49m\u001b[43mdtype\u001b[49m\u001b[38;5;241;43m=\u001b[39;49m\u001b[38;5;28;43mself\u001b[39;49m\u001b[38;5;241;43m.\u001b[39;49m\u001b[43mdtype\u001b[49m\u001b[43m,\u001b[49m\u001b[43m \u001b[49m\u001b[43morder\u001b[49m\u001b[38;5;241;43m=\u001b[39;49m\u001b[43morder\u001b[49m\u001b[43m)\u001b[49m\n",
      "\u001b[1;31mMemoryError\u001b[0m: Unable to allocate 26.2 GiB for an array with shape (46391, 75658) and data type int64"
     ]
    }
   ],
   "source": [
    "cvec = pd.DataFrame(cdf.toarray(), columns = countvec.get_feature_names())\n"
   ]
  },
  {
   "cell_type": "code",
   "execution_count": 26,
   "id": "f5eb156b",
   "metadata": {},
   "outputs": [
    {
     "ename": "NameError",
     "evalue": "name 'cvec' is not defined",
     "output_type": "error",
     "traceback": [
      "\u001b[1;31m---------------------------------------------------------------------------\u001b[0m",
      "\u001b[1;31mNameError\u001b[0m                                 Traceback (most recent call last)",
      "Input \u001b[1;32mIn [26]\u001b[0m, in \u001b[0;36m<cell line: 2>\u001b[1;34m()\u001b[0m\n\u001b[0;32m      1\u001b[0m \u001b[38;5;28;01mfrom\u001b[39;00m \u001b[38;5;21;01msklearn\u001b[39;00m\u001b[38;5;21;01m.\u001b[39;00m\u001b[38;5;21;01mmodel_selection\u001b[39;00m \u001b[38;5;28;01mimport\u001b[39;00m train_test_split\n\u001b[1;32m----> 2\u001b[0m X_train, X_test, y_train, y_test \u001b[38;5;241m=\u001b[39m train_test_split(\u001b[43mcvec\u001b[49m, reviews[\u001b[38;5;124m'\u001b[39m\u001b[38;5;124mrating\u001b[39m\u001b[38;5;124m'\u001b[39m], test_size\u001b[38;5;241m=\u001b[39m\u001b[38;5;241m0.3\u001b[39m, random_state\u001b[38;5;241m=\u001b[39m\u001b[38;5;241m42\u001b[39m)\n",
      "\u001b[1;31mNameError\u001b[0m: name 'cvec' is not defined"
     ]
    }
   ],
   "source": [
    "from sklearn.model_selection import train_test_split\n",
    "X_train, X_test, y_train, y_test = train_test_split(cvec, reviews['rating'], test_size=0.3, random_state=42)"
   ]
  },
  {
   "cell_type": "code",
   "execution_count": 27,
   "id": "2e4c983a",
   "metadata": {},
   "outputs": [],
   "source": [
    "X_train, X_test, y_train, y_test = train_test_split(cdf, reviews['rating'], test_size=0.3, random_state=42)"
   ]
  },
  {
   "cell_type": "code",
   "execution_count": 28,
   "id": "86ae75ce",
   "metadata": {},
   "outputs": [],
   "source": [
    "from sklearn.naive_bayes import MultinomialNB\n",
    "naive_model = MultinomialNB()\n",
    "naive_model = naive_model.fit(X_train, y_train)"
   ]
  },
  {
   "cell_type": "code",
   "execution_count": 29,
   "id": "c7b6553c",
   "metadata": {},
   "outputs": [],
   "source": [
    "y_pred=naive_model.predict(X_test)"
   ]
  },
  {
   "cell_type": "code",
   "execution_count": 30,
   "id": "0dab670a",
   "metadata": {},
   "outputs": [],
   "source": [
    "from sklearn.metrics import classification_report, confusion_matrix, accuracy_score, plot_confusion_matrix\n",
    "def summarize_model_result(model):\n",
    "  print(\"\\t\\tClassification Report\")\n",
    "  print(classification_report(y_test, y_pred))\n",
    "  print('\\nConfusion Matrix:\\n')\n",
    "  print(confusion_matrix(y_test, y_pred))\n",
    "  print(\"----------------------------------------------------------------------------------------------\")\n",
    "  plot_confusion_matrix(model, X_test, y_test, xticks_rotation='vertical')"
   ]
  },
  {
   "cell_type": "code",
   "execution_count": 31,
   "id": "d72e9fc5",
   "metadata": {},
   "outputs": [
    {
     "name": "stdout",
     "output_type": "stream",
     "text": [
      "\t\tClassification Report\n",
      "              precision    recall  f1-score   support\n",
      "\n",
      "           1       0.60      0.03      0.05       658\n",
      "           2       0.39      0.03      0.06      1119\n",
      "           3       0.35      0.31      0.33      2667\n",
      "           4       0.38      0.43      0.40      4157\n",
      "           5       0.56      0.71      0.62      5317\n",
      "\n",
      "    accuracy                           0.46     13918\n",
      "   macro avg       0.46      0.30      0.29     13918\n",
      "weighted avg       0.45      0.46      0.43     13918\n",
      "\n",
      "\n",
      "Confusion Matrix:\n",
      "\n",
      "[[  18   28  271  155  186]\n",
      " [   6   35  500  377  201]\n",
      " [   1   18  825 1049  774]\n",
      " [   1    5  505 1771 1875]\n",
      " [   4    3  263 1251 3796]]\n",
      "----------------------------------------------------------------------------------------------\n"
     ]
    },
    {
     "name": "stderr",
     "output_type": "stream",
     "text": [
      "C:\\Users\\EMZ\\anaconda3\\lib\\site-packages\\sklearn\\utils\\deprecation.py:87: FutureWarning: Function plot_confusion_matrix is deprecated; Function `plot_confusion_matrix` is deprecated in 1.0 and will be removed in 1.2. Use one of the class methods: ConfusionMatrixDisplay.from_predictions or ConfusionMatrixDisplay.from_estimator.\n",
      "  warnings.warn(msg, category=FutureWarning)\n"
     ]
    },
    {
     "data": {
      "image/png": "[encoded data removed]",
      "text/plain": [
       "<Figure size 432x288 with 2 Axes>"
      ]
     },
     "metadata": {
      "needs_background": "light"
     },
     "output_type": "display_data"
    }
   ],
   "source": [
    "summarize_model_result(naive_model)"
   ]
  },
  {
   "cell_type": "code",
   "execution_count": 34,
   "id": "718fe929",
   "metadata": {},
   "outputs": [
    {
     "data": {
      "text/plain": [
       "RandomForestClassifier(max_depth=20, random_state=0)"
      ]
     },
     "execution_count": 34,
     "metadata": {},
     "output_type": "execute_result"
    }
   ],
   "source": [
    "from sklearn.tree import DecisionTreeClassifier\n",
    "dt_model=RandomForestClassifier(max_depth=20, random_state=0)\n",
    "dt_model.fit(X_train,y_train)"
   ]
  },
  {
   "cell_type": "code",
   "execution_count": 35,
   "id": "da4e8590",
   "metadata": {},
   "outputs": [
    {
     "name": "stdout",
     "output_type": "stream",
     "text": [
      "\t\tClassification Report\n",
      "              precision    recall  f1-score   support\n",
      "\n",
      "           1       0.00      0.00      0.00       658\n",
      "           2       0.00      0.00      0.00      1119\n",
      "           3       0.60      0.00      0.00      2667\n",
      "           4       0.32      0.03      0.05      4157\n",
      "           5       0.39      0.99      0.56      5317\n",
      "\n",
      "    accuracy                           0.39     13918\n",
      "   macro avg       0.26      0.20      0.12     13918\n",
      "weighted avg       0.36      0.39      0.23     13918\n",
      "\n",
      "\n",
      "Confusion Matrix:\n",
      "\n",
      "[[   0    0    1   20  637]\n",
      " [   0    0    0   55 1064]\n",
      " [   0    0    3  114 2550]\n",
      " [   0    0    1  112 4044]\n",
      " [   0    0    0   54 5263]]\n",
      "----------------------------------------------------------------------------------------------\n"
     ]
    },
    {
     "name": "stderr",
     "output_type": "stream",
     "text": [
      "C:\\Users\\EMZ\\anaconda3\\lib\\site-packages\\sklearn\\metrics\\_classification.py:1318: UndefinedMetricWarning: Precision and F-score are ill-defined and being set to 0.0 in labels with no predicted samples. Use `zero_division` parameter to control this behavior.\n",
      "  _warn_prf(average, modifier, msg_start, len(result))\n",
      "C:\\Users\\EMZ\\anaconda3\\lib\\site-packages\\sklearn\\metrics\\_classification.py:1318: UndefinedMetricWarning: Precision and F-score are ill-defined and being set to 0.0 in labels with no predicted samples. Use `zero_division` parameter to control this behavior.\n",
      "  _warn_prf(average, modifier, msg_start, len(result))\n",
      "C:\\Users\\EMZ\\anaconda3\\lib\\site-packages\\sklearn\\metrics\\_classification.py:1318: UndefinedMetricWarning: Precision and F-score are ill-defined and being set to 0.0 in labels with no predicted samples. Use `zero_division` parameter to control this behavior.\n",
      "  _warn_prf(average, modifier, msg_start, len(result))\n",
      "C:\\Users\\EMZ\\anaconda3\\lib\\site-packages\\sklearn\\utils\\deprecation.py:87: FutureWarning: Function plot_confusion_matrix is deprecated; Function `plot_confusion_matrix` is deprecated in 1.0 and will be removed in 1.2. Use one of the class methods: ConfusionMatrixDisplay.from_predictions or ConfusionMatrixDisplay.from_estimator.\n",
      "  warnings.warn(msg, category=FutureWarning)\n"
     ]
    },
    {
     "data": {
      "image/png": "[encoded data removed]",
      "text/plain": [
       "<Figure size 432x288 with 2 Axes>"
      ]
     },
     "metadata": {
      "needs_background": "light"
     },
     "output_type": "display_data"
    }
   ],
   "source": [
    "y_pred=rf_model.predict(X_test)\n",
    "summarize_model_result(dt_model)"
   ]
  },
  {
   "cell_type": "code",
   "execution_count": null,
   "id": "b21cdf78",
   "metadata": {},
   "outputs": [],
   "source": []
  },
  {
   "cell_type": "code",
   "execution_count": 32,
   "id": "8341d080",
   "metadata": {},
   "outputs": [
    {
     "data": {
      "text/plain": [
       "RandomForestClassifier(max_depth=20, random_state=0)"
      ]
     },
     "execution_count": 32,
     "metadata": {},
     "output_type": "execute_result"
    }
   ],
   "source": [
    "from sklearn.ensemble import RandomForestClassifier\n",
    "rf_model=RandomForestClassifier(max_depth=20, random_state=0)\n",
    "rf_model.fit(X_train,y_train)"
   ]
  },
  {
   "cell_type": "code",
   "execution_count": 33,
   "id": "51068c54",
   "metadata": {},
   "outputs": [
    {
     "name": "stdout",
     "output_type": "stream",
     "text": [
      "\t\tClassification Report\n",
      "              precision    recall  f1-score   support\n",
      "\n",
      "           1       0.00      0.00      0.00       658\n",
      "           2       0.00      0.00      0.00      1119\n",
      "           3       0.60      0.00      0.00      2667\n",
      "           4       0.32      0.03      0.05      4157\n",
      "           5       0.39      0.99      0.56      5317\n",
      "\n",
      "    accuracy                           0.39     13918\n",
      "   macro avg       0.26      0.20      0.12     13918\n",
      "weighted avg       0.36      0.39      0.23     13918\n",
      "\n",
      "\n",
      "Confusion Matrix:\n",
      "\n",
      "[[   0    0    1   20  637]\n",
      " [   0    0    0   55 1064]\n",
      " [   0    0    3  114 2550]\n",
      " [   0    0    1  112 4044]\n",
      " [   0    0    0   54 5263]]\n",
      "----------------------------------------------------------------------------------------------\n"
     ]
    },
    {
     "name": "stderr",
     "output_type": "stream",
     "text": [
      "C:\\Users\\EMZ\\anaconda3\\lib\\site-packages\\sklearn\\metrics\\_classification.py:1318: UndefinedMetricWarning: Precision and F-score are ill-defined and being set to 0.0 in labels with no predicted samples. Use `zero_division` parameter to control this behavior.\n",
      "  _warn_prf(average, modifier, msg_start, len(result))\n",
      "C:\\Users\\EMZ\\anaconda3\\lib\\site-packages\\sklearn\\metrics\\_classification.py:1318: UndefinedMetricWarning: Precision and F-score are ill-defined and being set to 0.0 in labels with no predicted samples. Use `zero_division` parameter to control this behavior.\n",
      "  _warn_prf(average, modifier, msg_start, len(result))\n",
      "C:\\Users\\EMZ\\anaconda3\\lib\\site-packages\\sklearn\\metrics\\_classification.py:1318: UndefinedMetricWarning: Precision and F-score are ill-defined and being set to 0.0 in labels with no predicted samples. Use `zero_division` parameter to control this behavior.\n",
      "  _warn_prf(average, modifier, msg_start, len(result))\n",
      "C:\\Users\\EMZ\\anaconda3\\lib\\site-packages\\sklearn\\utils\\deprecation.py:87: FutureWarning: Function plot_confusion_matrix is deprecated; Function `plot_confusion_matrix` is deprecated in 1.0 and will be removed in 1.2. Use one of the class methods: ConfusionMatrixDisplay.from_predictions or ConfusionMatrixDisplay.from_estimator.\n",
      "  warnings.warn(msg, category=FutureWarning)\n"
     ]
    },
    {
     "data": {
      "image/png": "[encoded data removed]",
      "text/plain": [
       "<Figure size 432x288 with 2 Axes>"
      ]
     },
     "metadata": {
      "needs_background": "light"
     },
     "output_type": "display_data"
    }
   ],
   "source": [
    "y_pred=rf_model.predict(X_test)\n",
    "summarize_model_result(rf_model)"
   ]
  },
  {
   "cell_type": "code",
   "execution_count": null,
   "id": "3e2a019f",
   "metadata": {},
   "outputs": [],
   "source": []
  }
 ],
 "metadata": {
  "kernelspec": {
   "display_name": "Python 3 (ipykernel)",
   "language": "python",
   "name": "python3"
  },
  "language_info": {
   "codemirror_mode": {
    "name": "ipython",
    "version": 3
   },
   "file_extension": ".py",
   "mimetype": "text/x-python",
   "name": "python",
   "nbconvert_exporter": "python",
   "pygments_lexer": "ipython3",
   "version": "3.9.12"
  }
 },
 "nbformat": 4,
 "nbformat_minor": 5
}

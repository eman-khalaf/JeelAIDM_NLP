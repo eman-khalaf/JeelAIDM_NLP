{
 "cells": [
  {
   "cell_type": "markdown",
   "id": "9603fd01",
   "metadata": {},
   "source": [
    "### importing liberaries"
   ]
  },
  {
   "cell_type": "code",
   "execution_count": 5,
   "id": "44bd314c",
   "metadata": {},
   "outputs": [],
   "source": [
    "import pandas as pd\n",
    "import nltk"
   ]
  },
  {
   "cell_type": "markdown",
   "id": "ed1d86ab",
   "metadata": {},
   "source": [
    "### reading data"
   ]
  },
  {
   "cell_type": "code",
   "execution_count": 3,
   "id": "934fca61",
   "metadata": {},
   "outputs": [],
   "source": [
    "data = pd.read_csv(\"C:\\\\Users\\\\EMZ\\\\Desktop\\\\JeelAIDM\\\\NLP\\\\dataset2_2.csv\")"
   ]
  },
  {
   "cell_type": "code",
   "execution_count": 4,
   "id": "47b2d96c",
   "metadata": {},
   "outputs": [
    {
     "data": {
      "text/html": [
       "<div>\n",
       "<style scoped>\n",
       "    .dataframe tbody tr th:only-of-type {\n",
       "        vertical-align: middle;\n",
       "    }\n",
       "\n",
       "    .dataframe tbody tr th {\n",
       "        vertical-align: top;\n",
       "    }\n",
       "\n",
       "    .dataframe thead th {\n",
       "        text-align: right;\n",
       "    }\n",
       "</style>\n",
       "<table border=\"1\" class=\"dataframe\">\n",
       "  <thead>\n",
       "    <tr style=\"text-align: right;\">\n",
       "      <th></th>\n",
       "      <th>sentiment</th>\n",
       "      <th>tweet</th>\n",
       "    </tr>\n",
       "  </thead>\n",
       "  <tbody>\n",
       "    <tr>\n",
       "      <th>0</th>\n",
       "      <td>negative</td>\n",
       "      <td>\"نصيحه ما عمرك اتنزل لعبة سوبر ماريو مش زي ما ...</td>\n",
       "    </tr>\n",
       "    <tr>\n",
       "      <th>1</th>\n",
       "      <td>neutral</td>\n",
       "      <td>\"#نادين_نسيب_نجيم ❤️❤️❤️مجلة #ماري_كلير 💭#ملكة...</td>\n",
       "    </tr>\n",
       "    <tr>\n",
       "      <th>2</th>\n",
       "      <td>neutral</td>\n",
       "      <td>\"@Alito_NBA اتوقع انه بيستمر\"</td>\n",
       "    </tr>\n",
       "  </tbody>\n",
       "</table>\n",
       "</div>"
      ],
      "text/plain": [
       "  sentiment                                              tweet\n",
       "0  negative  \"نصيحه ما عمرك اتنزل لعبة سوبر ماريو مش زي ما ...\n",
       "1   neutral  \"#نادين_نسيب_نجيم ❤️❤️❤️مجلة #ماري_كلير 💭#ملكة...\n",
       "2   neutral                      \"@Alito_NBA اتوقع انه بيستمر\""
      ]
     },
     "execution_count": 4,
     "metadata": {},
     "output_type": "execute_result"
    }
   ],
   "source": [
    "data.head(3)"
   ]
  },
  {
   "cell_type": "code",
   "execution_count": 6,
   "id": "17098279",
   "metadata": {},
   "outputs": [
    {
     "name": "stdout",
     "output_type": "stream",
     "text": [
      "<class 'pandas.core.frame.DataFrame'>\n",
      "RangeIndex: 10548 entries, 0 to 10547\n",
      "Data columns (total 2 columns):\n",
      " #   Column     Non-Null Count  Dtype \n",
      "---  ------     --------------  ----- \n",
      " 0   sentiment  10547 non-null  object\n",
      " 1   tweet      10547 non-null  object\n",
      "dtypes: object(2)\n",
      "memory usage: 164.9+ KB\n"
     ]
    }
   ],
   "source": [
    "data.info()"
   ]
  },
  {
   "cell_type": "code",
   "execution_count": 7,
   "id": "72e06384",
   "metadata": {},
   "outputs": [
    {
     "data": {
      "text/plain": [
       "neutral     5340\n",
       "negative    3529\n",
       "positive    1678\n",
       "Name: sentiment, dtype: int64"
      ]
     },
     "execution_count": 7,
     "metadata": {},
     "output_type": "execute_result"
    }
   ],
   "source": [
    "data[\"sentiment\"].value_counts()"
   ]
  },
  {
   "cell_type": "code",
   "execution_count": 9,
   "id": "d5142940",
   "metadata": {},
   "outputs": [
    {
     "data": {
      "text/plain": [
       "array(['negative', 'neutral', 'positive', nan], dtype=object)"
      ]
     },
     "execution_count": 9,
     "metadata": {},
     "output_type": "execute_result"
    }
   ],
   "source": [
    "data[\"sentiment\"].unique() "
   ]
  },
  {
   "cell_type": "code",
   "execution_count": 10,
   "id": "45e16b9d",
   "metadata": {},
   "outputs": [
    {
     "data": {
      "text/plain": [
       "3"
      ]
     },
     "execution_count": 10,
     "metadata": {},
     "output_type": "execute_result"
    }
   ],
   "source": [
    "data[\"sentiment\"].nunique() "
   ]
  },
  {
   "cell_type": "code",
   "execution_count": 11,
   "id": "80188b8e",
   "metadata": {},
   "outputs": [
    {
     "data": {
      "text/plain": [
       "<AxesSubplot:ylabel='sentiment'>"
      ]
     },
     "execution_count": 11,
     "metadata": {},
     "output_type": "execute_result"
    },
    {
     "data": {
      "image/png": "[encoded data removed]",
      "text/plain": [
       "<Figure size 432x288 with 1 Axes>"
      ]
     },
     "metadata": {},
     "output_type": "display_data"
    }
   ],
   "source": [
    "data['sentiment'].value_counts().plot.pie(autopct='%1.2f%%')"
   ]
  },
  {
   "cell_type": "markdown",
   "id": "e1dd6d1b",
   "metadata": {},
   "source": [
    "#### preprocessing"
   ]
  },
  {
   "cell_type": "code",
   "execution_count": 8,
   "id": "907ef15d",
   "metadata": {},
   "outputs": [],
   "source": [
    "import re"
   ]
  },
  {
   "cell_type": "code",
   "execution_count": 12,
   "id": "7466ae9f",
   "metadata": {},
   "outputs": [],
   "source": [
    "def clean_txt(text):\n",
    "    return re.sub('[^ ء-ي ]', ' ', str(text))"
   ]
  },
  {
   "cell_type": "code",
   "execution_count": 15,
   "id": "ea570a51",
   "metadata": {},
   "outputs": [],
   "source": [
    "data['clean_tweet'] = data['tweet'].apply(clean_txt)"
   ]
  },
  {
   "cell_type": "code",
   "execution_count": 16,
   "id": "9ccacd40",
   "metadata": {},
   "outputs": [
    {
     "data": {
      "text/html": [
       "<div>\n",
       "<style scoped>\n",
       "    .dataframe tbody tr th:only-of-type {\n",
       "        vertical-align: middle;\n",
       "    }\n",
       "\n",
       "    .dataframe tbody tr th {\n",
       "        vertical-align: top;\n",
       "    }\n",
       "\n",
       "    .dataframe thead th {\n",
       "        text-align: right;\n",
       "    }\n",
       "</style>\n",
       "<table border=\"1\" class=\"dataframe\">\n",
       "  <thead>\n",
       "    <tr style=\"text-align: right;\">\n",
       "      <th></th>\n",
       "      <th>sentiment</th>\n",
       "      <th>tweet</th>\n",
       "      <th>clean_tweet</th>\n",
       "    </tr>\n",
       "  </thead>\n",
       "  <tbody>\n",
       "    <tr>\n",
       "      <th>8962</th>\n",
       "      <td>neutral</td>\n",
       "      <td>\"#اليمنية| #بسمة وطن يفوز على #النسور بسداسية ...</td>\n",
       "      <td>اليمنية   بسمة وطن يفوز على  النسور بسداسية ...</td>\n",
       "    </tr>\n",
       "    <tr>\n",
       "      <th>7982</th>\n",
       "      <td>negative</td>\n",
       "      <td>\"RT @abu_sulttan1: سيسي وتبقى يالخمامه سيسيو ق...</td>\n",
       "      <td>سيسي وتبقى يالخمامه سيسيو ق...</td>\n",
       "    </tr>\n",
       "  </tbody>\n",
       "</table>\n",
       "</div>"
      ],
      "text/plain": [
       "     sentiment                                              tweet  \\\n",
       "8962   neutral  \"#اليمنية| #بسمة وطن يفوز على #النسور بسداسية ...   \n",
       "7982  negative  \"RT @abu_sulttan1: سيسي وتبقى يالخمامه سيسيو ق...   \n",
       "\n",
       "                                            clean_tweet  \n",
       "8962    اليمنية   بسمة وطن يفوز على  النسور بسداسية ...  \n",
       "7982                     سيسي وتبقى يالخمامه سيسيو ق...  "
      ]
     },
     "execution_count": 16,
     "metadata": {},
     "output_type": "execute_result"
    }
   ],
   "source": [
    "data.sample(2)"
   ]
  },
  {
   "cell_type": "code",
   "execution_count": 20,
   "id": "37947f2c",
   "metadata": {},
   "outputs": [
    {
     "name": "stdout",
     "output_type": "stream",
     "text": [
      "Requirement already satisfied: Tashaphyne in c:\\users\\emz\\anaconda3\\lib\\site-packages (0.3.6)\n",
      "Requirement already satisfied: pyarabic in c:\\users\\emz\\anaconda3\\lib\\site-packages (from Tashaphyne) (0.6.15)\n",
      "Requirement already satisfied: six>=1.14.0 in c:\\users\\emz\\anaconda3\\lib\\site-packages (from pyarabic->Tashaphyne) (1.16.0)\n"
     ]
    }
   ],
   "source": [
    "#!pip install Tashaphyne\n"
   ]
  },
  {
   "cell_type": "code",
   "execution_count": 21,
   "id": "93e6087e",
   "metadata": {},
   "outputs": [],
   "source": [
    "import tashaphyne.arabic_const as arabconst"
   ]
  },
  {
   "cell_type": "code",
   "execution_count": null,
   "id": "bc22f431",
   "metadata": {},
   "outputs": [],
   "source": [
    "#arabconst.normalize_spellerrors(text)"
   ]
  },
  {
   "cell_type": "code",
   "execution_count": 22,
   "id": "6e400e0c",
   "metadata": {},
   "outputs": [
    {
     "name": "stdout",
     "output_type": "stream",
     "text": [
      "Requirement already satisfied: PyArabic in c:\\users\\emz\\anaconda3\\lib\\site-packages (0.6.15)\n",
      "Requirement already satisfied: six>=1.14.0 in c:\\users\\emz\\anaconda3\\lib\\site-packages (from PyArabic) (1.16.0)\n"
     ]
    }
   ],
   "source": [
    "! pip install PyArabic"
   ]
  },
  {
   "cell_type": "code",
   "execution_count": 27,
   "id": "4a3c9a99",
   "metadata": {},
   "outputs": [],
   "source": [
    "import pyarabic.araby as araby"
   ]
  },
  {
   "cell_type": "code",
   "execution_count": 25,
   "id": "d00e1b2f",
   "metadata": {},
   "outputs": [],
   "source": [
    "#strip_harakat(text) #حذف الحركات كلها ماعدا الشدة\n",
    "#strip_tatweel(text)"
   ]
  },
  {
   "cell_type": "code",
   "execution_count": 30,
   "id": "4d08e326",
   "metadata": {},
   "outputs": [],
   "source": [
    "#data['strip_harakat'] = data['clean_tweet'].apply(araby.strip_tatweel)"
   ]
  },
  {
   "cell_type": "code",
   "execution_count": 44,
   "id": "d80a6d3a",
   "metadata": {},
   "outputs": [],
   "source": [
    "def normalizeArabic(text):\n",
    "    text = re.sub(\"[إأٱآا]\", \"ا\", text)\n",
    "    text = re.sub(\"ة\", \"ه\", text)\n",
    "    text = re.sub(\"ى\" ,\"ي\" , text) # also try endswith\n",
    "    \n",
    "    return text.strip()"
   ]
  },
  {
   "cell_type": "code",
   "execution_count": 50,
   "id": "c106cf7a",
   "metadata": {},
   "outputs": [],
   "source": [
    "data['strip_harakat'] = data['clean_tweet'].apply(normalizeArabic)"
   ]
  },
  {
   "cell_type": "code",
   "execution_count": 53,
   "id": "0fee1c78",
   "metadata": {},
   "outputs": [],
   "source": [
    "data['strip_harakat'] = data['strip_harakat'].apply(lambda x: re.sub(r'(.)\\1+', r'\\1\\1',x))"
   ]
  },
  {
   "cell_type": "code",
   "execution_count": 62,
   "id": "c5284b29",
   "metadata": {
    "scrolled": true
   },
   "outputs": [
    {
     "data": {
      "text/html": [
       "<div>\n",
       "<style scoped>\n",
       "    .dataframe tbody tr th:only-of-type {\n",
       "        vertical-align: middle;\n",
       "    }\n",
       "\n",
       "    .dataframe tbody tr th {\n",
       "        vertical-align: top;\n",
       "    }\n",
       "\n",
       "    .dataframe thead th {\n",
       "        text-align: right;\n",
       "    }\n",
       "</style>\n",
       "<table border=\"1\" class=\"dataframe\">\n",
       "  <thead>\n",
       "    <tr style=\"text-align: right;\">\n",
       "      <th></th>\n",
       "      <th>sentiment</th>\n",
       "      <th>tweet</th>\n",
       "      <th>clean_tweet</th>\n",
       "      <th>strip_harakat</th>\n",
       "    </tr>\n",
       "  </thead>\n",
       "  <tbody>\n",
       "    <tr>\n",
       "      <th>810</th>\n",
       "      <td>neutral</td>\n",
       "      <td>\"برشلونة رفض التخلي عن توران مقابل مبلغ كبير م...</td>\n",
       "      <td>برشلونة رفض التخلي عن توران مقابل مبلغ كبير م...</td>\n",
       "      <td>برشلونه رفض التخلي عن توران مقابل مبلغ كبير من...</td>\n",
       "    </tr>\n",
       "    <tr>\n",
       "      <th>7126</th>\n",
       "      <td>negative</td>\n",
       "      <td>\"الإتحاد الأوربي قوي إقتصاديا ضعيف عسكريا مقار...</td>\n",
       "      <td>الإتحاد الأوربي قوي إقتصاديا ضعيف عسكريا مقار...</td>\n",
       "      <td>الاتحاد الاوربي قوي اقتصاديا ضعيف عسكريا مقارن...</td>\n",
       "    </tr>\n",
       "    <tr>\n",
       "      <th>5717</th>\n",
       "      <td>neutral</td>\n",
       "      <td>\"مداهمات واسعة لمخيمات #النازحين #السوريين في ...</td>\n",
       "      <td>مداهمات واسعة لمخيمات  النازحين  السوريين في ...</td>\n",
       "      <td>مداهمات واسعه لمخيمات  النازحين  السوريين في  ...</td>\n",
       "    </tr>\n",
       "    <tr>\n",
       "      <th>7890</th>\n",
       "      <td>negative</td>\n",
       "      <td>\"أظن أن الذي قتل الشهيد جبران تويني معروف وواض...</td>\n",
       "      <td>أظن أن الذي قتل الشهيد جبران تويني معروف وواض...</td>\n",
       "      <td>اظن ان الذي قتل الشهيد جبران تويني معروف وواضح...</td>\n",
       "    </tr>\n",
       "    <tr>\n",
       "      <th>5284</th>\n",
       "      <td>neutral</td>\n",
       "      <td>\"RT @ScreenMixx: والد انجلينا جولي ينتقد تصريح...</td>\n",
       "      <td>والد انجلينا جولي ينتقد تصريح...</td>\n",
       "      <td>والد انجلينا جولي ينتقد تصريح روبرت دي نيرو عن...</td>\n",
       "    </tr>\n",
       "    <tr>\n",
       "      <th>7830</th>\n",
       "      <td>positive</td>\n",
       "      <td>\"🔹الثقافة القرآنية🔘 الله يريد منا أن يكون محمد...</td>\n",
       "      <td>الثقافة القرآنية  الله يريد منا أن يكون محمد...</td>\n",
       "      <td>الثقافه القرانيه  الله يريد منا ان يكون محمد ح...</td>\n",
       "    </tr>\n",
       "    <tr>\n",
       "      <th>7091</th>\n",
       "      <td>negative</td>\n",
       "      <td>\"جان أوغاسبيان ، وزير الدولة لشؤون (المرأة) رج...</td>\n",
       "      <td>جان أوغاسبيان   وزير الدولة لشؤون  المرأة  رج...</td>\n",
       "      <td>جان اوغاسبيان  وزير الدوله لشؤون  المراه  رج ل...</td>\n",
       "    </tr>\n",
       "    <tr>\n",
       "      <th>8574</th>\n",
       "      <td>positive</td>\n",
       "      <td>\"محمد الذهلي:ثقافه تنفع القريه ورزانه يعني بإخ...</td>\n",
       "      <td>محمد الذهلي ثقافه تنفع القريه ورزانه يعني بإخ...</td>\n",
       "      <td>محمد الذهلي ثقافه تنفع القريه ورزانه يعني باخت...</td>\n",
       "    </tr>\n",
       "    <tr>\n",
       "      <th>6933</th>\n",
       "      <td>positive</td>\n",
       "      <td>\"RT @WBedaiwi: #صيام_تاسوعاء_وعاشوراء  قال رسو...</td>\n",
       "      <td>صيام تاسوعاء وعاشوراء  قال رسو...</td>\n",
       "      <td>صيام تاسوعاء وعاشوراء  قال رسول الله  افضل  ال...</td>\n",
       "    </tr>\n",
       "    <tr>\n",
       "      <th>6531</th>\n",
       "      <td>negative</td>\n",
       "      <td>بحسب الجزيرة ميدان التحرير يتسع ل 500 ألف مصري...</td>\n",
       "      <td>بحسب الجزيرة ميدان التحرير يتسع ل     ألف مصري...</td>\n",
       "      <td>بحسب الجزيره ميدان التحرير يتسع ل  الف مصري او...</td>\n",
       "    </tr>\n",
       "  </tbody>\n",
       "</table>\n",
       "</div>"
      ],
      "text/plain": [
       "     sentiment                                              tweet  \\\n",
       "810    neutral  \"برشلونة رفض التخلي عن توران مقابل مبلغ كبير م...   \n",
       "7126  negative  \"الإتحاد الأوربي قوي إقتصاديا ضعيف عسكريا مقار...   \n",
       "5717   neutral  \"مداهمات واسعة لمخيمات #النازحين #السوريين في ...   \n",
       "7890  negative  \"أظن أن الذي قتل الشهيد جبران تويني معروف وواض...   \n",
       "5284   neutral  \"RT @ScreenMixx: والد انجلينا جولي ينتقد تصريح...   \n",
       "7830  positive  \"🔹الثقافة القرآنية🔘 الله يريد منا أن يكون محمد...   \n",
       "7091  negative  \"جان أوغاسبيان ، وزير الدولة لشؤون (المرأة) رج...   \n",
       "8574  positive  \"محمد الذهلي:ثقافه تنفع القريه ورزانه يعني بإخ...   \n",
       "6933  positive  \"RT @WBedaiwi: #صيام_تاسوعاء_وعاشوراء  قال رسو...   \n",
       "6531  negative  بحسب الجزيرة ميدان التحرير يتسع ل 500 ألف مصري...   \n",
       "\n",
       "                                            clean_tweet  \\\n",
       "810    برشلونة رفض التخلي عن توران مقابل مبلغ كبير م...   \n",
       "7126   الإتحاد الأوربي قوي إقتصاديا ضعيف عسكريا مقار...   \n",
       "5717   مداهمات واسعة لمخيمات  النازحين  السوريين في ...   \n",
       "7890   أظن أن الذي قتل الشهيد جبران تويني معروف وواض...   \n",
       "5284                   والد انجلينا جولي ينتقد تصريح...   \n",
       "7830    الثقافة القرآنية  الله يريد منا أن يكون محمد...   \n",
       "7091   جان أوغاسبيان   وزير الدولة لشؤون  المرأة  رج...   \n",
       "8574   محمد الذهلي ثقافه تنفع القريه ورزانه يعني بإخ...   \n",
       "6933                  صيام تاسوعاء وعاشوراء  قال رسو...   \n",
       "6531  بحسب الجزيرة ميدان التحرير يتسع ل     ألف مصري...   \n",
       "\n",
       "                                          strip_harakat  \n",
       "810   برشلونه رفض التخلي عن توران مقابل مبلغ كبير من...  \n",
       "7126  الاتحاد الاوربي قوي اقتصاديا ضعيف عسكريا مقارن...  \n",
       "5717  مداهمات واسعه لمخيمات  النازحين  السوريين في  ...  \n",
       "7890  اظن ان الذي قتل الشهيد جبران تويني معروف وواضح...  \n",
       "5284  والد انجلينا جولي ينتقد تصريح روبرت دي نيرو عن...  \n",
       "7830  الثقافه القرانيه  الله يريد منا ان يكون محمد ح...  \n",
       "7091  جان اوغاسبيان  وزير الدوله لشؤون  المراه  رج ل...  \n",
       "8574  محمد الذهلي ثقافه تنفع القريه ورزانه يعني باخت...  \n",
       "6933  صيام تاسوعاء وعاشوراء  قال رسول الله  افضل  ال...  \n",
       "6531  بحسب الجزيره ميدان التحرير يتسع ل  الف مصري او...  "
      ]
     },
     "execution_count": 62,
     "metadata": {},
     "output_type": "execute_result"
    }
   ],
   "source": [
    "data.sample(10)"
   ]
  },
  {
   "cell_type": "markdown",
   "id": "d611dd1f",
   "metadata": {},
   "source": [
    "#### tokenization"
   ]
  },
  {
   "cell_type": "code",
   "execution_count": 43,
   "id": "834d005c",
   "metadata": {},
   "outputs": [
    {
     "name": "stderr",
     "output_type": "stream",
     "text": [
      "[nltk_data] Downloading package punkt to\n",
      "[nltk_data]     C:\\Users\\EMZ\\AppData\\Roaming\\nltk_data...\n",
      "[nltk_data]   Unzipping tokenizers\\punkt.zip.\n"
     ]
    },
    {
     "data": {
      "text/plain": [
       "True"
      ]
     },
     "execution_count": 43,
     "metadata": {},
     "output_type": "execute_result"
    }
   ],
   "source": [
    "nltk.download('punkt')"
   ]
  },
  {
   "cell_type": "code",
   "execution_count": 63,
   "id": "9e13f00f",
   "metadata": {},
   "outputs": [],
   "source": [
    "from nltk.tokenize import word_tokenize\n",
    "tokens = []\n",
    "for index, row in data.iterrows():\n",
    "    tokens.append(word_tokenize(row[\"strip_harakat\"]))\n",
    "data[\"tokenize\"]= tokens"
   ]
  },
  {
   "cell_type": "code",
   "execution_count": 75,
   "id": "c819918e",
   "metadata": {},
   "outputs": [],
   "source": [
    "data[\"w_count\"]= data[\"strip_harakat\"].apply(lambda x: len(str(x).split()))"
   ]
  },
  {
   "cell_type": "code",
   "execution_count": 77,
   "id": "8e0c84d5",
   "metadata": {},
   "outputs": [],
   "source": [
    "data[\"w_count2\"]= data[\"tokenize\"].apply(lambda x: len(x))"
   ]
  },
  {
   "cell_type": "code",
   "execution_count": 78,
   "id": "7ec64c73",
   "metadata": {},
   "outputs": [
    {
     "data": {
      "text/html": [
       "<div>\n",
       "<style scoped>\n",
       "    .dataframe tbody tr th:only-of-type {\n",
       "        vertical-align: middle;\n",
       "    }\n",
       "\n",
       "    .dataframe tbody tr th {\n",
       "        vertical-align: top;\n",
       "    }\n",
       "\n",
       "    .dataframe thead th {\n",
       "        text-align: right;\n",
       "    }\n",
       "</style>\n",
       "<table border=\"1\" class=\"dataframe\">\n",
       "  <thead>\n",
       "    <tr style=\"text-align: right;\">\n",
       "      <th></th>\n",
       "      <th>sentiment</th>\n",
       "      <th>tweet</th>\n",
       "      <th>clean_tweet</th>\n",
       "      <th>strip_harakat</th>\n",
       "      <th>tokenize</th>\n",
       "      <th>w_count</th>\n",
       "      <th>w_count2</th>\n",
       "    </tr>\n",
       "  </thead>\n",
       "  <tbody>\n",
       "    <tr>\n",
       "      <th>0</th>\n",
       "      <td>negative</td>\n",
       "      <td>\"نصيحه ما عمرك اتنزل لعبة سوبر ماريو مش زي ما ...</td>\n",
       "      <td>نصيحه ما عمرك اتنزل لعبة سوبر ماريو مش زي ما ...</td>\n",
       "      <td>نصيحه ما عمرك اتنزل لعبه سوبر ماريو مش زي ما ك...</td>\n",
       "      <td>[نصيحه, ما, عمرك, اتنزل, لعبه, سوبر, ماريو, مش...</td>\n",
       "      <td>18</td>\n",
       "      <td>18</td>\n",
       "    </tr>\n",
       "    <tr>\n",
       "      <th>1</th>\n",
       "      <td>neutral</td>\n",
       "      <td>\"#نادين_نسيب_نجيم ❤️❤️❤️مجلة #ماري_كلير 💭#ملكة...</td>\n",
       "      <td>نادين نسيب نجيم       مجلة  ماري كلير   ملكة...</td>\n",
       "      <td>نادين نسيب نجيم  مجله  ماري كلير  ملكه الصحراء</td>\n",
       "      <td>[نادين, نسيب, نجيم, مجله, ماري, كلير, ملكه, ال...</td>\n",
       "      <td>8</td>\n",
       "      <td>8</td>\n",
       "    </tr>\n",
       "  </tbody>\n",
       "</table>\n",
       "</div>"
      ],
      "text/plain": [
       "  sentiment                                              tweet  \\\n",
       "0  negative  \"نصيحه ما عمرك اتنزل لعبة سوبر ماريو مش زي ما ...   \n",
       "1   neutral  \"#نادين_نسيب_نجيم ❤️❤️❤️مجلة #ماري_كلير 💭#ملكة...   \n",
       "\n",
       "                                         clean_tweet  \\\n",
       "0   نصيحه ما عمرك اتنزل لعبة سوبر ماريو مش زي ما ...   \n",
       "1    نادين نسيب نجيم       مجلة  ماري كلير   ملكة...   \n",
       "\n",
       "                                       strip_harakat  \\\n",
       "0  نصيحه ما عمرك اتنزل لعبه سوبر ماريو مش زي ما ك...   \n",
       "1     نادين نسيب نجيم  مجله  ماري كلير  ملكه الصحراء   \n",
       "\n",
       "                                            tokenize  w_count  w_count2  \n",
       "0  [نصيحه, ما, عمرك, اتنزل, لعبه, سوبر, ماريو, مش...       18        18  \n",
       "1  [نادين, نسيب, نجيم, مجله, ماري, كلير, ملكه, ال...        8         8  "
      ]
     },
     "execution_count": 78,
     "metadata": {},
     "output_type": "execute_result"
    }
   ],
   "source": [
    "data.head(2)"
   ]
  },
  {
   "cell_type": "markdown",
   "id": "75cefd1a",
   "metadata": {},
   "source": [
    "#### remove stop words"
   ]
  },
  {
   "cell_type": "code",
   "execution_count": 79,
   "id": "bbdb85fc",
   "metadata": {},
   "outputs": [],
   "source": [
    "from nltk.corpus import stopwords"
   ]
  },
  {
   "cell_type": "code",
   "execution_count": 80,
   "id": "ac544922",
   "metadata": {},
   "outputs": [],
   "source": [
    "sw = stopwords.words(\"arabic\")"
   ]
  },
  {
   "cell_type": "code",
   "execution_count": 81,
   "id": "c9db1dad",
   "metadata": {},
   "outputs": [
    {
     "data": {
      "text/plain": [
       "754"
      ]
     },
     "execution_count": 81,
     "metadata": {},
     "output_type": "execute_result"
    }
   ],
   "source": [
    "len(sw)"
   ]
  },
  {
   "cell_type": "code",
   "execution_count": 96,
   "id": "5d4efc5d",
   "metadata": {},
   "outputs": [],
   "source": [
    "def remove_stopwords(text):\n",
    "    sw_removed = [word for word in text if not word  in sw]\n",
    "    return sw_removed\n",
    "    "
   ]
  },
  {
   "cell_type": "code",
   "execution_count": 98,
   "id": "58096250",
   "metadata": {},
   "outputs": [],
   "source": [
    "data[\"remove_sw\"]= data[\"tokenize\"].apply(remove_stopwords)"
   ]
  },
  {
   "cell_type": "code",
   "execution_count": 91,
   "id": "b53cc20f",
   "metadata": {
    "collapsed": true
   },
   "outputs": [
    {
     "ename": "TypeError",
     "evalue": "argument of type 'WordListCorpusReader' is not iterable",
     "output_type": "error",
     "traceback": [
      "\u001b[1;31m---------------------------------------------------------------------------\u001b[0m",
      "\u001b[1;31mTypeError\u001b[0m                                 Traceback (most recent call last)",
      "Input \u001b[1;32mIn [91]\u001b[0m, in \u001b[0;36m<cell line: 1>\u001b[1;34m()\u001b[0m\n\u001b[1;32m----> 1\u001b[0m data[\u001b[38;5;124m\"\u001b[39m\u001b[38;5;124mremove_sw\u001b[39m\u001b[38;5;124m\"\u001b[39m]\u001b[38;5;241m=\u001b[39m \u001b[43mdata\u001b[49m\u001b[43m[\u001b[49m\u001b[38;5;124;43m\"\u001b[39;49m\u001b[38;5;124;43mclean_tweet\u001b[39;49m\u001b[38;5;124;43m\"\u001b[39;49m\u001b[43m]\u001b[49m\u001b[38;5;241;43m.\u001b[39;49m\u001b[43mapply\u001b[49m\u001b[43m(\u001b[49m\u001b[38;5;28;43;01mlambda\u001b[39;49;00m\u001b[43m \u001b[49m\u001b[43mx\u001b[49m\u001b[43m:\u001b[49m\u001b[43m \u001b[49m\u001b[43mremove_stopwords\u001b[49m\u001b[43m(\u001b[49m\u001b[43mx\u001b[49m\u001b[43m)\u001b[49m\u001b[43m)\u001b[49m\n",
      "File \u001b[1;32m~\\anaconda3\\lib\\site-packages\\pandas\\core\\series.py:4433\u001b[0m, in \u001b[0;36mSeries.apply\u001b[1;34m(self, func, convert_dtype, args, **kwargs)\u001b[0m\n\u001b[0;32m   4323\u001b[0m \u001b[38;5;28;01mdef\u001b[39;00m \u001b[38;5;21mapply\u001b[39m(\n\u001b[0;32m   4324\u001b[0m     \u001b[38;5;28mself\u001b[39m,\n\u001b[0;32m   4325\u001b[0m     func: AggFuncType,\n\u001b[1;32m   (...)\u001b[0m\n\u001b[0;32m   4328\u001b[0m     \u001b[38;5;241m*\u001b[39m\u001b[38;5;241m*\u001b[39mkwargs,\n\u001b[0;32m   4329\u001b[0m ) \u001b[38;5;241m-\u001b[39m\u001b[38;5;241m>\u001b[39m DataFrame \u001b[38;5;241m|\u001b[39m Series:\n\u001b[0;32m   4330\u001b[0m     \u001b[38;5;124;03m\"\"\"\u001b[39;00m\n\u001b[0;32m   4331\u001b[0m \u001b[38;5;124;03m    Invoke function on values of Series.\u001b[39;00m\n\u001b[0;32m   4332\u001b[0m \n\u001b[1;32m   (...)\u001b[0m\n\u001b[0;32m   4431\u001b[0m \u001b[38;5;124;03m    dtype: float64\u001b[39;00m\n\u001b[0;32m   4432\u001b[0m \u001b[38;5;124;03m    \"\"\"\u001b[39;00m\n\u001b[1;32m-> 4433\u001b[0m     \u001b[38;5;28;01mreturn\u001b[39;00m \u001b[43mSeriesApply\u001b[49m\u001b[43m(\u001b[49m\u001b[38;5;28;43mself\u001b[39;49m\u001b[43m,\u001b[49m\u001b[43m \u001b[49m\u001b[43mfunc\u001b[49m\u001b[43m,\u001b[49m\u001b[43m \u001b[49m\u001b[43mconvert_dtype\u001b[49m\u001b[43m,\u001b[49m\u001b[43m \u001b[49m\u001b[43margs\u001b[49m\u001b[43m,\u001b[49m\u001b[43m \u001b[49m\u001b[43mkwargs\u001b[49m\u001b[43m)\u001b[49m\u001b[38;5;241;43m.\u001b[39;49m\u001b[43mapply\u001b[49m\u001b[43m(\u001b[49m\u001b[43m)\u001b[49m\n",
      "File \u001b[1;32m~\\anaconda3\\lib\\site-packages\\pandas\\core\\apply.py:1082\u001b[0m, in \u001b[0;36mSeriesApply.apply\u001b[1;34m(self)\u001b[0m\n\u001b[0;32m   1078\u001b[0m \u001b[38;5;28;01mif\u001b[39;00m \u001b[38;5;28misinstance\u001b[39m(\u001b[38;5;28mself\u001b[39m\u001b[38;5;241m.\u001b[39mf, \u001b[38;5;28mstr\u001b[39m):\n\u001b[0;32m   1079\u001b[0m     \u001b[38;5;66;03m# if we are a string, try to dispatch\u001b[39;00m\n\u001b[0;32m   1080\u001b[0m     \u001b[38;5;28;01mreturn\u001b[39;00m \u001b[38;5;28mself\u001b[39m\u001b[38;5;241m.\u001b[39mapply_str()\n\u001b[1;32m-> 1082\u001b[0m \u001b[38;5;28;01mreturn\u001b[39;00m \u001b[38;5;28;43mself\u001b[39;49m\u001b[38;5;241;43m.\u001b[39;49m\u001b[43mapply_standard\u001b[49m\u001b[43m(\u001b[49m\u001b[43m)\u001b[49m\n",
      "File \u001b[1;32m~\\anaconda3\\lib\\site-packages\\pandas\\core\\apply.py:1137\u001b[0m, in \u001b[0;36mSeriesApply.apply_standard\u001b[1;34m(self)\u001b[0m\n\u001b[0;32m   1131\u001b[0m         values \u001b[38;5;241m=\u001b[39m obj\u001b[38;5;241m.\u001b[39mastype(\u001b[38;5;28mobject\u001b[39m)\u001b[38;5;241m.\u001b[39m_values\n\u001b[0;32m   1132\u001b[0m         \u001b[38;5;66;03m# error: Argument 2 to \"map_infer\" has incompatible type\u001b[39;00m\n\u001b[0;32m   1133\u001b[0m         \u001b[38;5;66;03m# \"Union[Callable[..., Any], str, List[Union[Callable[..., Any], str]],\u001b[39;00m\n\u001b[0;32m   1134\u001b[0m         \u001b[38;5;66;03m# Dict[Hashable, Union[Union[Callable[..., Any], str],\u001b[39;00m\n\u001b[0;32m   1135\u001b[0m         \u001b[38;5;66;03m# List[Union[Callable[..., Any], str]]]]]\"; expected\u001b[39;00m\n\u001b[0;32m   1136\u001b[0m         \u001b[38;5;66;03m# \"Callable[[Any], Any]\"\u001b[39;00m\n\u001b[1;32m-> 1137\u001b[0m         mapped \u001b[38;5;241m=\u001b[39m \u001b[43mlib\u001b[49m\u001b[38;5;241;43m.\u001b[39;49m\u001b[43mmap_infer\u001b[49m\u001b[43m(\u001b[49m\n\u001b[0;32m   1138\u001b[0m \u001b[43m            \u001b[49m\u001b[43mvalues\u001b[49m\u001b[43m,\u001b[49m\n\u001b[0;32m   1139\u001b[0m \u001b[43m            \u001b[49m\u001b[43mf\u001b[49m\u001b[43m,\u001b[49m\u001b[43m  \u001b[49m\u001b[38;5;66;43;03m# type: ignore[arg-type]\u001b[39;49;00m\n\u001b[0;32m   1140\u001b[0m \u001b[43m            \u001b[49m\u001b[43mconvert\u001b[49m\u001b[38;5;241;43m=\u001b[39;49m\u001b[38;5;28;43mself\u001b[39;49m\u001b[38;5;241;43m.\u001b[39;49m\u001b[43mconvert_dtype\u001b[49m\u001b[43m,\u001b[49m\n\u001b[0;32m   1141\u001b[0m \u001b[43m        \u001b[49m\u001b[43m)\u001b[49m\n\u001b[0;32m   1143\u001b[0m \u001b[38;5;28;01mif\u001b[39;00m \u001b[38;5;28mlen\u001b[39m(mapped) \u001b[38;5;129;01mand\u001b[39;00m \u001b[38;5;28misinstance\u001b[39m(mapped[\u001b[38;5;241m0\u001b[39m], ABCSeries):\n\u001b[0;32m   1144\u001b[0m     \u001b[38;5;66;03m# GH#43986 Need to do list(mapped) in order to get treated as nested\u001b[39;00m\n\u001b[0;32m   1145\u001b[0m     \u001b[38;5;66;03m#  See also GH#25959 regarding EA support\u001b[39;00m\n\u001b[0;32m   1146\u001b[0m     \u001b[38;5;28;01mreturn\u001b[39;00m obj\u001b[38;5;241m.\u001b[39m_constructor_expanddim(\u001b[38;5;28mlist\u001b[39m(mapped), index\u001b[38;5;241m=\u001b[39mobj\u001b[38;5;241m.\u001b[39mindex)\n",
      "File \u001b[1;32m~\\anaconda3\\lib\\site-packages\\pandas\\_libs\\lib.pyx:2870\u001b[0m, in \u001b[0;36mpandas._libs.lib.map_infer\u001b[1;34m()\u001b[0m\n",
      "Input \u001b[1;32mIn [91]\u001b[0m, in \u001b[0;36m<lambda>\u001b[1;34m(x)\u001b[0m\n\u001b[1;32m----> 1\u001b[0m data[\u001b[38;5;124m\"\u001b[39m\u001b[38;5;124mremove_sw\u001b[39m\u001b[38;5;124m\"\u001b[39m]\u001b[38;5;241m=\u001b[39m data[\u001b[38;5;124m\"\u001b[39m\u001b[38;5;124mclean_tweet\u001b[39m\u001b[38;5;124m\"\u001b[39m]\u001b[38;5;241m.\u001b[39mapply(\u001b[38;5;28;01mlambda\u001b[39;00m x: \u001b[43mremove_stopwords\u001b[49m\u001b[43m(\u001b[49m\u001b[43mx\u001b[49m\u001b[43m)\u001b[49m)\n",
      "Input \u001b[1;32mIn [89]\u001b[0m, in \u001b[0;36mremove_stopwords\u001b[1;34m(text)\u001b[0m\n\u001b[0;32m      1\u001b[0m \u001b[38;5;28;01mdef\u001b[39;00m \u001b[38;5;21mremove_stopwords\u001b[39m(text):\n\u001b[1;32m----> 2\u001b[0m     sw_removed \u001b[38;5;241m=\u001b[39m [word \u001b[38;5;28;01mfor\u001b[39;00m word \u001b[38;5;129;01min\u001b[39;00m text \u001b[38;5;28;01mif\u001b[39;00m \u001b[38;5;129;01mnot\u001b[39;00m word  \u001b[38;5;129;01min\u001b[39;00m stopwords]\n\u001b[0;32m      3\u001b[0m     \u001b[38;5;28;01mreturn\u001b[39;00m sw_removed\n",
      "Input \u001b[1;32mIn [89]\u001b[0m, in \u001b[0;36m<listcomp>\u001b[1;34m(.0)\u001b[0m\n\u001b[0;32m      1\u001b[0m \u001b[38;5;28;01mdef\u001b[39;00m \u001b[38;5;21mremove_stopwords\u001b[39m(text):\n\u001b[1;32m----> 2\u001b[0m     sw_removed \u001b[38;5;241m=\u001b[39m [word \u001b[38;5;28;01mfor\u001b[39;00m word \u001b[38;5;129;01min\u001b[39;00m text \u001b[38;5;28;01mif\u001b[39;00m \u001b[38;5;129;01mnot\u001b[39;00m \u001b[43mword\u001b[49m\u001b[43m  \u001b[49m\u001b[38;5;129;43;01min\u001b[39;49;00m\u001b[43m \u001b[49m\u001b[43mstopwords\u001b[49m]\n\u001b[0;32m      3\u001b[0m     \u001b[38;5;28;01mreturn\u001b[39;00m sw_removed\n",
      "\u001b[1;31mTypeError\u001b[0m: argument of type 'WordListCorpusReader' is not iterable"
     ]
    }
   ],
   "source": [
    "data[\"remove_sw\"]= data[\"clean_tweet\"].apply(lambda x: remove_stopwords(x))"
   ]
  },
  {
   "cell_type": "code",
   "execution_count": 99,
   "id": "5515763d",
   "metadata": {},
   "outputs": [],
   "source": [
    "data[\"remove_sw2\"]= data[\"clean_tweet\"].apply(lambda x: ' '.join([word for word in x.split() if word not in (sw)]))"
   ]
  },
  {
   "cell_type": "code",
   "execution_count": 100,
   "id": "74ae2559",
   "metadata": {},
   "outputs": [
    {
     "data": {
      "text/html": [
       "<div>\n",
       "<style scoped>\n",
       "    .dataframe tbody tr th:only-of-type {\n",
       "        vertical-align: middle;\n",
       "    }\n",
       "\n",
       "    .dataframe tbody tr th {\n",
       "        vertical-align: top;\n",
       "    }\n",
       "\n",
       "    .dataframe thead th {\n",
       "        text-align: right;\n",
       "    }\n",
       "</style>\n",
       "<table border=\"1\" class=\"dataframe\">\n",
       "  <thead>\n",
       "    <tr style=\"text-align: right;\">\n",
       "      <th></th>\n",
       "      <th>sentiment</th>\n",
       "      <th>tweet</th>\n",
       "      <th>clean_tweet</th>\n",
       "      <th>strip_harakat</th>\n",
       "      <th>tokenize</th>\n",
       "      <th>w_count</th>\n",
       "      <th>w_count2</th>\n",
       "      <th>remove_sw</th>\n",
       "      <th>remove_sw2</th>\n",
       "    </tr>\n",
       "  </thead>\n",
       "  <tbody>\n",
       "    <tr>\n",
       "      <th>0</th>\n",
       "      <td>negative</td>\n",
       "      <td>\"نصيحه ما عمرك اتنزل لعبة سوبر ماريو مش زي ما ...</td>\n",
       "      <td>نصيحه ما عمرك اتنزل لعبة سوبر ماريو مش زي ما ...</td>\n",
       "      <td>نصيحه ما عمرك اتنزل لعبه سوبر ماريو مش زي ما ك...</td>\n",
       "      <td>[نصيحه, ما, عمرك, اتنزل, لعبه, سوبر, ماريو, مش...</td>\n",
       "      <td>18</td>\n",
       "      <td>18</td>\n",
       "      <td>[نصيحه, عمرك, اتنزل, لعبه, سوبر, ماريو, مش, زي...</td>\n",
       "      <td>نصيحه عمرك اتنزل لعبة سوبر ماريو مش زي متوقعين...</td>\n",
       "    </tr>\n",
       "    <tr>\n",
       "      <th>1</th>\n",
       "      <td>neutral</td>\n",
       "      <td>\"#نادين_نسيب_نجيم ❤️❤️❤️مجلة #ماري_كلير 💭#ملكة...</td>\n",
       "      <td>نادين نسيب نجيم       مجلة  ماري كلير   ملكة...</td>\n",
       "      <td>نادين نسيب نجيم  مجله  ماري كلير  ملكه الصحراء</td>\n",
       "      <td>[نادين, نسيب, نجيم, مجله, ماري, كلير, ملكه, ال...</td>\n",
       "      <td>8</td>\n",
       "      <td>8</td>\n",
       "      <td>[نادين, نسيب, نجيم, مجله, ماري, كلير, ملكه, ال...</td>\n",
       "      <td>نادين نسيب نجيم مجلة ماري كلير ملكة الصحراء</td>\n",
       "    </tr>\n",
       "  </tbody>\n",
       "</table>\n",
       "</div>"
      ],
      "text/plain": [
       "  sentiment                                              tweet  \\\n",
       "0  negative  \"نصيحه ما عمرك اتنزل لعبة سوبر ماريو مش زي ما ...   \n",
       "1   neutral  \"#نادين_نسيب_نجيم ❤️❤️❤️مجلة #ماري_كلير 💭#ملكة...   \n",
       "\n",
       "                                         clean_tweet  \\\n",
       "0   نصيحه ما عمرك اتنزل لعبة سوبر ماريو مش زي ما ...   \n",
       "1    نادين نسيب نجيم       مجلة  ماري كلير   ملكة...   \n",
       "\n",
       "                                       strip_harakat  \\\n",
       "0  نصيحه ما عمرك اتنزل لعبه سوبر ماريو مش زي ما ك...   \n",
       "1     نادين نسيب نجيم  مجله  ماري كلير  ملكه الصحراء   \n",
       "\n",
       "                                            tokenize  w_count  w_count2  \\\n",
       "0  [نصيحه, ما, عمرك, اتنزل, لعبه, سوبر, ماريو, مش...       18        18   \n",
       "1  [نادين, نسيب, نجيم, مجله, ماري, كلير, ملكه, ال...        8         8   \n",
       "\n",
       "                                           remove_sw  \\\n",
       "0  [نصيحه, عمرك, اتنزل, لعبه, سوبر, ماريو, مش, زي...   \n",
       "1  [نادين, نسيب, نجيم, مجله, ماري, كلير, ملكه, ال...   \n",
       "\n",
       "                                          remove_sw2  \n",
       "0  نصيحه عمرك اتنزل لعبة سوبر ماريو مش زي متوقعين...  \n",
       "1        نادين نسيب نجيم مجلة ماري كلير ملكة الصحراء  "
      ]
     },
     "execution_count": 100,
     "metadata": {},
     "output_type": "execute_result"
    }
   ],
   "source": [
    "data.head(2)"
   ]
  },
  {
   "cell_type": "code",
   "execution_count": 101,
   "id": "2e9ef2d4",
   "metadata": {},
   "outputs": [
    {
     "name": "stdout",
     "output_type": "stream",
     "text": [
      "Collecting ar_wordcloud\n",
      "  Downloading ar_wordcloud-0.0.4-py3-none-any.whl (6.3 kB)\n",
      "Requirement already satisfied: requests in c:\\users\\emz\\anaconda3\\lib\\site-packages (from ar_wordcloud) (2.27.1)\n",
      "Collecting python-bidi>=0.4.2\n",
      "  Downloading python_bidi-0.4.2-py2.py3-none-any.whl (30 kB)\n",
      "Collecting arabic_reshaper>=2.0.14\n",
      "  Downloading arabic_reshaper-2.1.4-py3-none-any.whl (20 kB)\n",
      "Collecting wordcloud>=1.7.0\n",
      "  Downloading wordcloud-1.8.2.2-cp39-cp39-win_amd64.whl (153 kB)\n",
      "     ------------------------------------ 153.1/153.1 kB 652.2 kB/s eta 0:00:00\n",
      "Requirement already satisfied: future in c:\\users\\emz\\anaconda3\\lib\\site-packages (from arabic_reshaper>=2.0.14->ar_wordcloud) (0.18.2)\n",
      "Requirement already satisfied: six in c:\\users\\emz\\anaconda3\\lib\\site-packages (from python-bidi>=0.4.2->ar_wordcloud) (1.16.0)\n",
      "Requirement already satisfied: matplotlib in c:\\users\\emz\\anaconda3\\lib\\site-packages (from wordcloud>=1.7.0->ar_wordcloud) (3.5.1)\n",
      "Requirement already satisfied: numpy>=1.6.1 in c:\\users\\emz\\anaconda3\\lib\\site-packages (from wordcloud>=1.7.0->ar_wordcloud) (1.21.5)\n",
      "Requirement already satisfied: pillow in c:\\users\\emz\\anaconda3\\lib\\site-packages (from wordcloud>=1.7.0->ar_wordcloud) (9.0.1)\n",
      "Requirement already satisfied: certifi>=2017.4.17 in c:\\users\\emz\\anaconda3\\lib\\site-packages (from requests->ar_wordcloud) (2022.6.15)\n",
      "Requirement already satisfied: charset-normalizer~=2.0.0 in c:\\users\\emz\\anaconda3\\lib\\site-packages (from requests->ar_wordcloud) (2.0.4)\n",
      "Requirement already satisfied: urllib3<1.27,>=1.21.1 in c:\\users\\emz\\anaconda3\\lib\\site-packages (from requests->ar_wordcloud) (1.26.9)\n",
      "Requirement already satisfied: idna<4,>=2.5 in c:\\users\\emz\\anaconda3\\lib\\site-packages (from requests->ar_wordcloud) (3.3)\n",
      "Requirement already satisfied: packaging>=20.0 in c:\\users\\emz\\anaconda3\\lib\\site-packages (from matplotlib->wordcloud>=1.7.0->ar_wordcloud) (21.3)\n",
      "Requirement already satisfied: fonttools>=4.22.0 in c:\\users\\emz\\anaconda3\\lib\\site-packages (from matplotlib->wordcloud>=1.7.0->ar_wordcloud) (4.25.0)\n",
      "Requirement already satisfied: kiwisolver>=1.0.1 in c:\\users\\emz\\anaconda3\\lib\\site-packages (from matplotlib->wordcloud>=1.7.0->ar_wordcloud) (1.3.2)\n",
      "Requirement already satisfied: pyparsing>=2.2.1 in c:\\users\\emz\\anaconda3\\lib\\site-packages (from matplotlib->wordcloud>=1.7.0->ar_wordcloud) (3.0.4)\n",
      "Requirement already satisfied: cycler>=0.10 in c:\\users\\emz\\anaconda3\\lib\\site-packages (from matplotlib->wordcloud>=1.7.0->ar_wordcloud) (0.11.0)\n",
      "Requirement already satisfied: python-dateutil>=2.7 in c:\\users\\emz\\anaconda3\\lib\\site-packages (from matplotlib->wordcloud>=1.7.0->ar_wordcloud) (2.8.2)\n",
      "Installing collected packages: python-bidi, arabic_reshaper, wordcloud, ar_wordcloud\n",
      "Successfully installed ar_wordcloud-0.0.4 arabic_reshaper-2.1.4 python-bidi-0.4.2 wordcloud-1.8.2.2\n"
     ]
    }
   ],
   "source": [
    "!pip install ar_wordcloud"
   ]
  },
  {
   "cell_type": "code",
   "execution_count": 102,
   "id": "17a6c110",
   "metadata": {},
   "outputs": [
    {
     "name": "stdout",
     "output_type": "stream",
     "text": [
      "downloading and unzipping arabic font: C:\\Users\\EMZ\\anaconda3\\lib\\site-packages\\ar_wordcloud\\fonts\\NotoNaskhArabic-unhinted.zip .. \n",
      "downloading and unzipping arabic font: C:\\Users\\EMZ\\anaconda3\\lib\\site-packages\\ar_wordcloud\\fonts\\NotoSansArabic-unhinted.zip .. \n",
      "downloading and unzipping arabic font: C:\\Users\\EMZ\\anaconda3\\lib\\site-packages\\ar_wordcloud\\fonts\\NotoKufiArabic-unhinted.zip .. \n"
     ]
    },
    {
     "ename": "AssertionError",
     "evalue": "بالله أتأكد ان اسم الخط المُدخل صحيح\nPlease make sure the selected font name is correct!",
     "output_type": "error",
     "traceback": [
      "\u001b[1;31m---------------------------------------------------------------------------\u001b[0m",
      "\u001b[1;31mAssertionError\u001b[0m                            Traceback (most recent call last)",
      "Input \u001b[1;32mIn [102]\u001b[0m, in \u001b[0;36m<cell line: 3>\u001b[1;34m()\u001b[0m\n\u001b[0;32m      1\u001b[0m \u001b[38;5;28;01mimport\u001b[39;00m \u001b[38;5;21;01mmatplotlib\u001b[39;00m\u001b[38;5;21;01m.\u001b[39;00m\u001b[38;5;21;01mpyplot\u001b[39;00m \u001b[38;5;28;01mas\u001b[39;00m \u001b[38;5;21;01mplt\u001b[39;00m\n\u001b[0;32m      2\u001b[0m \u001b[38;5;28;01mfrom\u001b[39;00m \u001b[38;5;21;01mar_wordcloud\u001b[39;00m \u001b[38;5;28;01mimport\u001b[39;00m ArabicWordCloud\n\u001b[1;32m----> 3\u001b[0m word_cloud \u001b[38;5;241m=\u001b[39m \u001b[43mArabicWordCloud\u001b[49m\u001b[43m(\u001b[49m\u001b[43mbackground_color\u001b[49m\u001b[38;5;241;43m=\u001b[39;49m\u001b[38;5;124;43m\"\u001b[39;49m\u001b[38;5;124;43mwhite\u001b[39;49m\u001b[38;5;124;43m\"\u001b[39;49m\u001b[43m)\u001b[49m\n\u001b[0;32m      4\u001b[0m plt\u001b[38;5;241m.\u001b[39mfigure(figsize\u001b[38;5;241m=\u001b[39m(\u001b[38;5;241m15\u001b[39m,\u001b[38;5;241m15\u001b[39m))\n\u001b[0;32m      5\u001b[0m new_cloud \u001b[38;5;241m=\u001b[39m word_cloud\u001b[38;5;241m.\u001b[39mfrom_text(\u001b[38;5;124mu\u001b[39m\u001b[38;5;124m'\u001b[39m\u001b[38;5;124m \u001b[39m\u001b[38;5;124m'\u001b[39m\u001b[38;5;241m.\u001b[39mjoin(data[\u001b[38;5;124m\"\u001b[39m\u001b[38;5;124mremove_sw2\u001b[39m\u001b[38;5;124m\"\u001b[39m]))\n",
      "File \u001b[1;32m~\\anaconda3\\lib\\site-packages\\ar_wordcloud\\ar_wordcloud.py:24\u001b[0m, in \u001b[0;36mArabicWordCloud.__init__\u001b[1;34m(self, font, **kwargs)\u001b[0m\n\u001b[0;32m     23\u001b[0m \u001b[38;5;28;01mdef\u001b[39;00m \u001b[38;5;21m__init__\u001b[39m(\u001b[38;5;28mself\u001b[39m, font: \u001b[38;5;28mstr\u001b[39m \u001b[38;5;241m=\u001b[39m \u001b[38;5;124m\"\u001b[39m\u001b[38;5;124mNotoNaskhArabic-Regular.ttf\u001b[39m\u001b[38;5;124m\"\u001b[39m, \u001b[38;5;241m*\u001b[39m\u001b[38;5;241m*\u001b[39mkwargs):\n\u001b[1;32m---> 24\u001b[0m     \u001b[38;5;28mself\u001b[39m\u001b[38;5;241m.\u001b[39mfonts \u001b[38;5;241m=\u001b[39m \u001b[43mArabicFonts\u001b[49m\u001b[43m(\u001b[49m\u001b[43mfont\u001b[49m\u001b[38;5;241;43m=\u001b[39;49m\u001b[43mfont\u001b[49m\u001b[43m)\u001b[49m\n\u001b[0;32m     25\u001b[0m     \u001b[38;5;28msuper\u001b[39m()\u001b[38;5;241m.\u001b[39m\u001b[38;5;21m__init__\u001b[39m(font_path\u001b[38;5;241m=\u001b[39m\u001b[38;5;28mself\u001b[39m\u001b[38;5;241m.\u001b[39mfonts\u001b[38;5;241m.\u001b[39mdefault_font, \u001b[38;5;241m*\u001b[39m\u001b[38;5;241m*\u001b[39mkwargs)\n\u001b[0;32m     26\u001b[0m     \u001b[38;5;28mself\u001b[39m\u001b[38;5;241m.\u001b[39mSTOPWORDS \u001b[38;5;241m=\u001b[39m STOPWORDS\n",
      "File \u001b[1;32m~\\anaconda3\\lib\\site-packages\\ar_wordcloud\\_fonts.py:30\u001b[0m, in \u001b[0;36mArabicFonts.__init__\u001b[1;34m(self, font)\u001b[0m\n\u001b[0;32m     28\u001b[0m     \u001b[38;5;28mself\u001b[39m\u001b[38;5;241m.\u001b[39m_download_zip_file(url)\n\u001b[0;32m     29\u001b[0m \u001b[38;5;28mself\u001b[39m\u001b[38;5;241m.\u001b[39mavailable_fonts \u001b[38;5;241m=\u001b[39m \u001b[38;5;28mlist\u001b[39m(\u001b[38;5;28mself\u001b[39m\u001b[38;5;241m.\u001b[39m_available_fonts\u001b[38;5;241m.\u001b[39mkeys())\n\u001b[1;32m---> 30\u001b[0m \u001b[38;5;28;01massert\u001b[39;00m font \u001b[38;5;129;01min\u001b[39;00m \u001b[38;5;28mself\u001b[39m\u001b[38;5;241m.\u001b[39mavailable_fonts \u001b[38;5;129;01mor\u001b[39;00m font \u001b[38;5;129;01mis\u001b[39;00m \u001b[38;5;124m\"\u001b[39m\u001b[38;5;124m\"\u001b[39m, \u001b[38;5;28mself\u001b[39m\u001b[38;5;241m.\u001b[39m_font_error\n\u001b[0;32m     31\u001b[0m \u001b[38;5;28mself\u001b[39m\u001b[38;5;241m.\u001b[39mdefault_font \u001b[38;5;241m=\u001b[39m \u001b[38;5;28mself\u001b[39m\u001b[38;5;241m.\u001b[39m_available_fonts[font] \u001b[38;5;28;01mif\u001b[39;00m font \u001b[38;5;28;01melse\u001b[39;00m \u001b[38;5;124m\"\u001b[39m\u001b[38;5;124m\"\u001b[39m\n",
      "\u001b[1;31mAssertionError\u001b[0m: بالله أتأكد ان اسم الخط المُدخل صحيح\nPlease make sure the selected font name is correct!"
     ]
    }
   ],
   "source": [
    "import matplotlib.pyplot as plt\n",
    "from ar_wordcloud import ArabicWordCloud\n",
    "word_cloud = ArabicWordCloud(background_color=\"white\")\n",
    "plt.figure(figsize=(15,15))\n",
    "new_cloud = word_cloud.from_text(u' '.join(data[\"remove_sw2\"]))"
   ]
  },
  {
   "cell_type": "code",
   "execution_count": 103,
   "id": "f0bcb11b",
   "metadata": {
    "collapsed": true
   },
   "outputs": [
    {
     "ename": "AssertionError",
     "evalue": "بالله أتأكد ان اسم الخط المُدخل صحيح\nPlease make sure the selected font name is correct!",
     "output_type": "error",
     "traceback": [
      "\u001b[1;31m---------------------------------------------------------------------------\u001b[0m",
      "\u001b[1;31mAssertionError\u001b[0m                            Traceback (most recent call last)",
      "Input \u001b[1;32mIn [103]\u001b[0m, in \u001b[0;36m<cell line: 1>\u001b[1;34m()\u001b[0m\n\u001b[1;32m----> 1\u001b[0m word_cloud \u001b[38;5;241m=\u001b[39m \u001b[43mArabicWordCloud\u001b[49m\u001b[43m(\u001b[49m\u001b[43m)\u001b[49m\n\u001b[0;32m      2\u001b[0m plt\u001b[38;5;241m.\u001b[39mfigure(figsize\u001b[38;5;241m=\u001b[39m(\u001b[38;5;241m15\u001b[39m,\u001b[38;5;241m15\u001b[39m))\n\u001b[0;32m      3\u001b[0m new_cloud2 \u001b[38;5;241m=\u001b[39m word_cloud\u001b[38;5;241m.\u001b[39mfrom_text(\u001b[38;5;124mu\u001b[39m\u001b[38;5;124m'\u001b[39m\u001b[38;5;124m \u001b[39m\u001b[38;5;124m'\u001b[39m\u001b[38;5;241m.\u001b[39mjoin(data[\u001b[38;5;124m\"\u001b[39m\u001b[38;5;124mremove_sw2\u001b[39m\u001b[38;5;124m\"\u001b[39m]))\n",
      "File \u001b[1;32m~\\anaconda3\\lib\\site-packages\\ar_wordcloud\\ar_wordcloud.py:24\u001b[0m, in \u001b[0;36mArabicWordCloud.__init__\u001b[1;34m(self, font, **kwargs)\u001b[0m\n\u001b[0;32m     23\u001b[0m \u001b[38;5;28;01mdef\u001b[39;00m \u001b[38;5;21m__init__\u001b[39m(\u001b[38;5;28mself\u001b[39m, font: \u001b[38;5;28mstr\u001b[39m \u001b[38;5;241m=\u001b[39m \u001b[38;5;124m\"\u001b[39m\u001b[38;5;124mNotoNaskhArabic-Regular.ttf\u001b[39m\u001b[38;5;124m\"\u001b[39m, \u001b[38;5;241m*\u001b[39m\u001b[38;5;241m*\u001b[39mkwargs):\n\u001b[1;32m---> 24\u001b[0m     \u001b[38;5;28mself\u001b[39m\u001b[38;5;241m.\u001b[39mfonts \u001b[38;5;241m=\u001b[39m \u001b[43mArabicFonts\u001b[49m\u001b[43m(\u001b[49m\u001b[43mfont\u001b[49m\u001b[38;5;241;43m=\u001b[39;49m\u001b[43mfont\u001b[49m\u001b[43m)\u001b[49m\n\u001b[0;32m     25\u001b[0m     \u001b[38;5;28msuper\u001b[39m()\u001b[38;5;241m.\u001b[39m\u001b[38;5;21m__init__\u001b[39m(font_path\u001b[38;5;241m=\u001b[39m\u001b[38;5;28mself\u001b[39m\u001b[38;5;241m.\u001b[39mfonts\u001b[38;5;241m.\u001b[39mdefault_font, \u001b[38;5;241m*\u001b[39m\u001b[38;5;241m*\u001b[39mkwargs)\n\u001b[0;32m     26\u001b[0m     \u001b[38;5;28mself\u001b[39m\u001b[38;5;241m.\u001b[39mSTOPWORDS \u001b[38;5;241m=\u001b[39m STOPWORDS\n",
      "File \u001b[1;32m~\\anaconda3\\lib\\site-packages\\ar_wordcloud\\_fonts.py:30\u001b[0m, in \u001b[0;36mArabicFonts.__init__\u001b[1;34m(self, font)\u001b[0m\n\u001b[0;32m     28\u001b[0m     \u001b[38;5;28mself\u001b[39m\u001b[38;5;241m.\u001b[39m_download_zip_file(url)\n\u001b[0;32m     29\u001b[0m \u001b[38;5;28mself\u001b[39m\u001b[38;5;241m.\u001b[39mavailable_fonts \u001b[38;5;241m=\u001b[39m \u001b[38;5;28mlist\u001b[39m(\u001b[38;5;28mself\u001b[39m\u001b[38;5;241m.\u001b[39m_available_fonts\u001b[38;5;241m.\u001b[39mkeys())\n\u001b[1;32m---> 30\u001b[0m \u001b[38;5;28;01massert\u001b[39;00m font \u001b[38;5;129;01min\u001b[39;00m \u001b[38;5;28mself\u001b[39m\u001b[38;5;241m.\u001b[39mavailable_fonts \u001b[38;5;129;01mor\u001b[39;00m font \u001b[38;5;129;01mis\u001b[39;00m \u001b[38;5;124m\"\u001b[39m\u001b[38;5;124m\"\u001b[39m, \u001b[38;5;28mself\u001b[39m\u001b[38;5;241m.\u001b[39m_font_error\n\u001b[0;32m     31\u001b[0m \u001b[38;5;28mself\u001b[39m\u001b[38;5;241m.\u001b[39mdefault_font \u001b[38;5;241m=\u001b[39m \u001b[38;5;28mself\u001b[39m\u001b[38;5;241m.\u001b[39m_available_fonts[font] \u001b[38;5;28;01mif\u001b[39;00m font \u001b[38;5;28;01melse\u001b[39;00m \u001b[38;5;124m\"\u001b[39m\u001b[38;5;124m\"\u001b[39m\n",
      "\u001b[1;31mAssertionError\u001b[0m: بالله أتأكد ان اسم الخط المُدخل صحيح\nPlease make sure the selected font name is correct!"
     ]
    }
   ],
   "source": [
    "word_cloud = ArabicWordCloud()\n",
    "plt.figure(figsize=(15,15))\n",
    "new_cloud2 = word_cloud.from_text(u' '.join(data[\"remove_sw2\"]))   "
   ]
  },
  {
   "cell_type": "code",
   "execution_count": 104,
   "id": "9f3785c3",
   "metadata": {},
   "outputs": [],
   "source": [
    "from ar_wordcloud import ArabicWordCloud"
   ]
  },
  {
   "cell_type": "code",
   "execution_count": 106,
   "id": "42706c71",
   "metadata": {
    "collapsed": true
   },
   "outputs": [
    {
     "ename": "AssertionError",
     "evalue": "بالله أتأكد ان اسم الخط المُدخل صحيح\nPlease make sure the selected font name is correct!",
     "output_type": "error",
     "traceback": [
      "\u001b[1;31m---------------------------------------------------------------------------\u001b[0m",
      "\u001b[1;31mAssertionError\u001b[0m                            Traceback (most recent call last)",
      "Input \u001b[1;32mIn [106]\u001b[0m, in \u001b[0;36m<cell line: 1>\u001b[1;34m()\u001b[0m\n\u001b[1;32m----> 1\u001b[0m word_cloud \u001b[38;5;241m=\u001b[39m \u001b[43mArabicWordCloud\u001b[49m\u001b[43m(\u001b[49m\u001b[43mbackground_color\u001b[49m\u001b[43m \u001b[49m\u001b[38;5;241;43m=\u001b[39;49m\u001b[43m \u001b[49m\u001b[38;5;124;43m\"\u001b[39;49m\u001b[38;5;124;43mwhite\u001b[39;49m\u001b[38;5;124;43m\"\u001b[39;49m\u001b[43m)\u001b[49m\n\u001b[0;32m      2\u001b[0m plt\u001b[38;5;241m.\u001b[39mfigure(figsize\u001b[38;5;241m=\u001b[39m(\u001b[38;5;241m15\u001b[39m,\u001b[38;5;241m15\u001b[39m))\n",
      "File \u001b[1;32m~\\anaconda3\\lib\\site-packages\\ar_wordcloud\\ar_wordcloud.py:24\u001b[0m, in \u001b[0;36mArabicWordCloud.__init__\u001b[1;34m(self, font, **kwargs)\u001b[0m\n\u001b[0;32m     23\u001b[0m \u001b[38;5;28;01mdef\u001b[39;00m \u001b[38;5;21m__init__\u001b[39m(\u001b[38;5;28mself\u001b[39m, font: \u001b[38;5;28mstr\u001b[39m \u001b[38;5;241m=\u001b[39m \u001b[38;5;124m\"\u001b[39m\u001b[38;5;124mNotoNaskhArabic-Regular.ttf\u001b[39m\u001b[38;5;124m\"\u001b[39m, \u001b[38;5;241m*\u001b[39m\u001b[38;5;241m*\u001b[39mkwargs):\n\u001b[1;32m---> 24\u001b[0m     \u001b[38;5;28mself\u001b[39m\u001b[38;5;241m.\u001b[39mfonts \u001b[38;5;241m=\u001b[39m \u001b[43mArabicFonts\u001b[49m\u001b[43m(\u001b[49m\u001b[43mfont\u001b[49m\u001b[38;5;241;43m=\u001b[39;49m\u001b[43mfont\u001b[49m\u001b[43m)\u001b[49m\n\u001b[0;32m     25\u001b[0m     \u001b[38;5;28msuper\u001b[39m()\u001b[38;5;241m.\u001b[39m\u001b[38;5;21m__init__\u001b[39m(font_path\u001b[38;5;241m=\u001b[39m\u001b[38;5;28mself\u001b[39m\u001b[38;5;241m.\u001b[39mfonts\u001b[38;5;241m.\u001b[39mdefault_font, \u001b[38;5;241m*\u001b[39m\u001b[38;5;241m*\u001b[39mkwargs)\n\u001b[0;32m     26\u001b[0m     \u001b[38;5;28mself\u001b[39m\u001b[38;5;241m.\u001b[39mSTOPWORDS \u001b[38;5;241m=\u001b[39m STOPWORDS\n",
      "File \u001b[1;32m~\\anaconda3\\lib\\site-packages\\ar_wordcloud\\_fonts.py:30\u001b[0m, in \u001b[0;36mArabicFonts.__init__\u001b[1;34m(self, font)\u001b[0m\n\u001b[0;32m     28\u001b[0m     \u001b[38;5;28mself\u001b[39m\u001b[38;5;241m.\u001b[39m_download_zip_file(url)\n\u001b[0;32m     29\u001b[0m \u001b[38;5;28mself\u001b[39m\u001b[38;5;241m.\u001b[39mavailable_fonts \u001b[38;5;241m=\u001b[39m \u001b[38;5;28mlist\u001b[39m(\u001b[38;5;28mself\u001b[39m\u001b[38;5;241m.\u001b[39m_available_fonts\u001b[38;5;241m.\u001b[39mkeys())\n\u001b[1;32m---> 30\u001b[0m \u001b[38;5;28;01massert\u001b[39;00m font \u001b[38;5;129;01min\u001b[39;00m \u001b[38;5;28mself\u001b[39m\u001b[38;5;241m.\u001b[39mavailable_fonts \u001b[38;5;129;01mor\u001b[39;00m font \u001b[38;5;129;01mis\u001b[39;00m \u001b[38;5;124m\"\u001b[39m\u001b[38;5;124m\"\u001b[39m, \u001b[38;5;28mself\u001b[39m\u001b[38;5;241m.\u001b[39m_font_error\n\u001b[0;32m     31\u001b[0m \u001b[38;5;28mself\u001b[39m\u001b[38;5;241m.\u001b[39mdefault_font \u001b[38;5;241m=\u001b[39m \u001b[38;5;28mself\u001b[39m\u001b[38;5;241m.\u001b[39m_available_fonts[font] \u001b[38;5;28;01mif\u001b[39;00m font \u001b[38;5;28;01melse\u001b[39;00m \u001b[38;5;124m\"\u001b[39m\u001b[38;5;124m\"\u001b[39m\n",
      "\u001b[1;31mAssertionError\u001b[0m: بالله أتأكد ان اسم الخط المُدخل صحيح\nPlease make sure the selected font name is correct!"
     ]
    }
   ],
   "source": [
    "word_cloud = ArabicWordCloud(background_color = \"white\")\n",
    "plt.figure(figsize=(15,15))"
   ]
  },
  {
   "cell_type": "markdown",
   "id": "c77703be",
   "metadata": {},
   "source": [
    "### Stemming and lemmatization"
   ]
  },
  {
   "cell_type": "code",
   "execution_count": 107,
   "id": "dc25df5d",
   "metadata": {
    "collapsed": true
   },
   "outputs": [
    {
     "name": "stdout",
     "output_type": "stream",
     "text": [
      "Collecting farasapy\n",
      "  Downloading farasapy-0.0.14-py3-none-any.whl (11 kB)\n",
      "Requirement already satisfied: requests in c:\\users\\emz\\anaconda3\\lib\\site-packages (from farasapy) (2.27.1)\n",
      "Requirement already satisfied: tqdm in c:\\users\\emz\\anaconda3\\lib\\site-packages (from farasapy) (4.64.0)\n",
      "Requirement already satisfied: idna<4,>=2.5 in c:\\users\\emz\\anaconda3\\lib\\site-packages (from requests->farasapy) (3.3)\n",
      "Requirement already satisfied: certifi>=2017.4.17 in c:\\users\\emz\\anaconda3\\lib\\site-packages (from requests->farasapy) (2022.6.15)\n",
      "Requirement already satisfied: urllib3<1.27,>=1.21.1 in c:\\users\\emz\\anaconda3\\lib\\site-packages (from requests->farasapy) (1.26.9)\n",
      "Requirement already satisfied: charset-normalizer~=2.0.0 in c:\\users\\emz\\anaconda3\\lib\\site-packages (from requests->farasapy) (2.0.4)\n",
      "Requirement already satisfied: colorama in c:\\users\\emz\\anaconda3\\lib\\site-packages (from tqdm->farasapy) (0.4.4)\n",
      "Installing collected packages: farasapy\n",
      "Successfully installed farasapy-0.0.14\n"
     ]
    }
   ],
   "source": [
    "#!pip install farasapy"
   ]
  },
  {
   "cell_type": "code",
   "execution_count": 118,
   "id": "535f7d7f",
   "metadata": {},
   "outputs": [
    {
     "name": "stderr",
     "output_type": "stream",
     "text": [
      "C:\\Users\\EMZ\\anaconda3\\lib\\site-packages\\urllib3\\connectionpool.py:1043: InsecureRequestWarning: Unverified HTTPS request is being made to host 'farasa-api.qcri.org'. Adding certificate verification is strongly advised. See: https://urllib3.readthedocs.io/en/1.26.x/advanced-usage.html#ssl-warnings\n",
      "  warnings.warn(\n"
     ]
    },
    {
     "name": "stdout",
     "output_type": "stream",
     "text": [
      "100%|██████████| 241M/241M [04:58<00:00, 808kiB/s] \n"
     ]
    }
   ],
   "source": [
    "from farasa.stemmer import FarasaStemmer\n",
    "f_ar_stemmer = FarasaStemmer()"
   ]
  },
  {
   "cell_type": "code",
   "execution_count": 121,
   "id": "ea3de6ef",
   "metadata": {},
   "outputs": [
    {
     "name": "stdout",
     "output_type": "stream",
     "text": [
      "نصيحة\n"
     ]
    }
   ],
   "source": [
    "print(f_ar_stemmer.stem(\"نصيحة\"))"
   ]
  },
  {
   "cell_type": "code",
   "execution_count": 122,
   "id": "f357f06d",
   "metadata": {},
   "outputs": [
    {
     "name": "stdout",
     "output_type": "stream",
     "text": [
      "نصيح\n"
     ]
    }
   ],
   "source": [
    "print(f_ar_stemmer.stem(\"نصيحه\"))"
   ]
  },
  {
   "cell_type": "code",
   "execution_count": 108,
   "id": "4b5b520e",
   "metadata": {},
   "outputs": [
    {
     "name": "stdout",
     "output_type": "stream",
     "text": [
      "Collecting camel-tools\n",
      "  Using cached camel_tools-1.4.1-py3-none-any.whl (114 kB)\n",
      "Requirement already satisfied: numpy in c:\\users\\emz\\anaconda3\\lib\\site-packages (from camel-tools) (1.21.5)\n",
      "Requirement already satisfied: torch>=1.3 in c:\\users\\emz\\anaconda3\\lib\\site-packages (from camel-tools) (1.10.2)\n",
      "Collecting editdistance\n",
      "  Downloading editdistance-0.6.0-cp39-cp39-win_amd64.whl (24 kB)\n",
      "Requirement already satisfied: tqdm in c:\\users\\emz\\anaconda3\\lib\\site-packages (from camel-tools) (4.64.0)\n"
     ]
    },
    {
     "name": "stderr",
     "output_type": "stream",
     "text": [
      "  error: subprocess-exited-with-error\n",
      "  \n",
      "  python setup.py bdist_wheel did not run successfully.\n",
      "  exit code: 1\n",
      "  \n",
      "  [11 lines of output]\n",
      "  'bash' is not recognized as an internal or external command,\n",
      "  operable program or batch file.\n",
      "  'bash' is not recognized as an internal or external command,\n",
      "  operable program or batch file.\n",
      "  'bash' is not recognized as an internal or external command,\n",
      "  operable program or batch file.\n",
      "  running bdist_wheel\n",
      "  running build\n",
      "  running build_ext\n",
      "  building 'kenlm' extension\n",
      "  error: Microsoft Visual C++ 14.0 or greater is required. Get it with \"Microsoft C++ Build Tools\": https://visualstudio.microsoft.com/visual-cpp-build-tools/\n",
      "  [end of output]\n",
      "  \n",
      "  note: This error originates from a subprocess, and is likely not a problem with pip.\n",
      "  ERROR: Failed building wheel for camel-kenlm\n",
      "  error: subprocess-exited-with-error\n",
      "  \n",
      "  Running setup.py install for camel-kenlm did not run successfully.\n",
      "  exit code: 1\n",
      "  \n",
      "  [13 lines of output]\n",
      "  'bash' is not recognized as an internal or external command,\n",
      "  operable program or batch file.\n",
      "  'bash' is not recognized as an internal or external command,\n",
      "  operable program or batch file.\n",
      "  'bash' is not recognized as an internal or external command,\n",
      "  operable program or batch file.\n",
      "  running install\n",
      "  C:\\Users\\EMZ\\anaconda3\\lib\\site-packages\\setuptools\\command\\install.py:34: SetuptoolsDeprecationWarning: setup.py install is deprecated. Use build and pip and other standards-based tools.\n",
      "    warnings.warn(\n",
      "  running build\n"
     ]
    },
    {
     "name": "stdout",
     "output_type": "stream",
     "text": [
      "Requirement already satisfied: transformers>=3.0.2 in c:\\users\\emz\\anaconda3\\lib\\site-packages (from camel-tools) (4.18.0)\n",
      "Requirement already satisfied: tabulate in c:\\users\\emz\\anaconda3\\lib\\site-packages (from camel-tools) (0.8.9)\n",
      "Collecting docopt\n",
      "  Using cached docopt-0.6.2.tar.gz (25 kB)\n",
      "  Preparing metadata (setup.py): started\n",
      "  Preparing metadata (setup.py): finished with status 'done'\n",
      "Requirement already satisfied: scikit-learn in c:\\users\\emz\\anaconda3\\lib\\site-packages (from camel-tools) (1.0.2)\n",
      "Requirement already satisfied: pyrsistent in c:\\users\\emz\\anaconda3\\lib\\site-packages (from camel-tools) (0.18.0)\n",
      "Collecting camel-kenlm\n",
      "  Using cached camel-kenlm-2021.12.27.tar.gz (418 kB)\n",
      "  Preparing metadata (setup.py): started\n",
      "  Preparing metadata (setup.py): finished with status 'done'\n",
      "Requirement already satisfied: six in c:\\users\\emz\\anaconda3\\lib\\site-packages (from camel-tools) (1.16.0)\n",
      "Requirement already satisfied: cachetools in c:\\users\\emz\\anaconda3\\lib\\site-packages (from camel-tools) (4.2.2)\n",
      "Collecting emoji\n",
      "  Downloading emoji-2.1.0.tar.gz (216 kB)\n",
      "     ------------------------------------ 216.6/216.6 kB 440.9 kB/s eta 0:00:00\n",
      "  Preparing metadata (setup.py): started\n",
      "  Preparing metadata (setup.py): finished with status 'done'\n",
      "Requirement already satisfied: scipy in c:\\users\\emz\\anaconda3\\lib\\site-packages (from camel-tools) (1.7.3)\n",
      "Requirement already satisfied: requests in c:\\users\\emz\\anaconda3\\lib\\site-packages (from camel-tools) (2.27.1)\n",
      "Requirement already satisfied: dill in c:\\users\\emz\\anaconda3\\lib\\site-packages (from camel-tools) (0.3.5.1)\n",
      "Requirement already satisfied: pandas in c:\\users\\emz\\anaconda3\\lib\\site-packages (from camel-tools) (1.4.2)\n",
      "Requirement already satisfied: future in c:\\users\\emz\\anaconda3\\lib\\site-packages (from camel-tools) (0.18.2)\n",
      "Requirement already satisfied: typing_extensions in c:\\users\\emz\\anaconda3\\lib\\site-packages (from torch>=1.3->camel-tools) (4.1.1)\n",
      "Requirement already satisfied: regex!=2019.12.17 in c:\\users\\emz\\anaconda3\\lib\\site-packages (from transformers>=3.0.2->camel-tools) (2022.3.15)\n",
      "Requirement already satisfied: pyyaml>=5.1 in c:\\users\\emz\\anaconda3\\lib\\site-packages (from transformers>=3.0.2->camel-tools) (6.0)\n",
      "Requirement already satisfied: sacremoses in c:\\users\\emz\\anaconda3\\lib\\site-packages (from transformers>=3.0.2->camel-tools) (0.0.53)\n",
      "Requirement already satisfied: huggingface-hub<1.0,>=0.1.0 in c:\\users\\emz\\anaconda3\\lib\\site-packages (from transformers>=3.0.2->camel-tools) (0.8.1)\n",
      "Requirement already satisfied: filelock in c:\\users\\emz\\anaconda3\\lib\\site-packages (from transformers>=3.0.2->camel-tools) (3.6.0)\n",
      "Requirement already satisfied: tokenizers!=0.11.3,<0.13,>=0.11.1 in c:\\users\\emz\\anaconda3\\lib\\site-packages (from transformers>=3.0.2->camel-tools) (0.12.1)\n",
      "Requirement already satisfied: packaging>=20.0 in c:\\users\\emz\\anaconda3\\lib\\site-packages (from transformers>=3.0.2->camel-tools) (21.3)\n",
      "Requirement already satisfied: colorama in c:\\users\\emz\\anaconda3\\lib\\site-packages (from tqdm->camel-tools) (0.4.4)\n",
      "Requirement already satisfied: pytz>=2020.1 in c:\\users\\emz\\anaconda3\\lib\\site-packages (from pandas->camel-tools) (2021.3)\n",
      "Requirement already satisfied: python-dateutil>=2.8.1 in c:\\users\\emz\\anaconda3\\lib\\site-packages (from pandas->camel-tools) (2.8.2)\n",
      "Requirement already satisfied: urllib3<1.27,>=1.21.1 in c:\\users\\emz\\anaconda3\\lib\\site-packages (from requests->camel-tools) (1.26.9)\n",
      "Requirement already satisfied: certifi>=2017.4.17 in c:\\users\\emz\\anaconda3\\lib\\site-packages (from requests->camel-tools) (2022.6.15)\n",
      "Requirement already satisfied: charset-normalizer~=2.0.0 in c:\\users\\emz\\anaconda3\\lib\\site-packages (from requests->camel-tools) (2.0.4)\n",
      "Requirement already satisfied: idna<4,>=2.5 in c:\\users\\emz\\anaconda3\\lib\\site-packages (from requests->camel-tools) (3.3)\n",
      "Requirement already satisfied: threadpoolctl>=2.0.0 in c:\\users\\emz\\anaconda3\\lib\\site-packages (from scikit-learn->camel-tools) (2.2.0)\n",
      "Requirement already satisfied: joblib>=0.11 in c:\\users\\emz\\anaconda3\\lib\\site-packages (from scikit-learn->camel-tools) (1.1.0)\n",
      "Requirement already satisfied: pyparsing!=3.0.5,>=2.0.2 in c:\\users\\emz\\anaconda3\\lib\\site-packages (from packaging>=20.0->transformers>=3.0.2->camel-tools) (3.0.4)\n",
      "Requirement already satisfied: click in c:\\users\\emz\\anaconda3\\lib\\site-packages (from sacremoses->transformers>=3.0.2->camel-tools) (8.0.4)\n",
      "Building wheels for collected packages: camel-kenlm, docopt, emoji\n",
      "  Building wheel for camel-kenlm (setup.py): started\n",
      "  Building wheel for camel-kenlm (setup.py): finished with status 'error'\n",
      "  Running setup.py clean for camel-kenlm\n",
      "  Building wheel for docopt (setup.py): started\n",
      "  Building wheel for docopt (setup.py): finished with status 'done'\n",
      "  Created wheel for docopt: filename=docopt-0.6.2-py2.py3-none-any.whl size=13723 sha256=13c28246b8738117147bec95f366abe2225ebd7e1a47359dd9a7292875dabced\n",
      "  Stored in directory: c:\\users\\emz\\appdata\\local\\pip\\cache\\wheels\\70\\4a\\46\\1309fc853b8d395e60bafaf1b6df7845bdd82c95fd59dd8d2b\n",
      "  Building wheel for emoji (setup.py): started\n",
      "  Building wheel for emoji (setup.py): finished with status 'done'\n",
      "  Created wheel for emoji: filename=emoji-2.1.0-py3-none-any.whl size=212392 sha256=5893463be3b44ff32083016efd6127d4b59231ffed3cb8c0c85c983b40ec7293\n",
      "  Stored in directory: c:\\users\\emz\\appdata\\local\\pip\\cache\\wheels\\b0\\4a\\c8\\9c580a0ea94dea641b8023456a1b178a7e4509d992224ed4aa\n",
      "Successfully built docopt emoji\n",
      "Failed to build camel-kenlm\n",
      "Installing collected packages: docopt, camel-kenlm, emoji, editdistance, camel-tools\n",
      "  Running setup.py install for camel-kenlm: started\n",
      "  Running setup.py install for camel-kenlm: finished with status 'error'\n"
     ]
    },
    {
     "name": "stderr",
     "output_type": "stream",
     "text": [
      "  running build_ext\n",
      "  building 'kenlm' extension\n",
      "  error: Microsoft Visual C++ 14.0 or greater is required. Get it with \"Microsoft C++ Build Tools\": https://visualstudio.microsoft.com/visual-cpp-build-tools/\n",
      "  [end of output]\n",
      "  \n",
      "  note: This error originates from a subprocess, and is likely not a problem with pip.\n",
      "error: legacy-install-failure\n",
      "\n",
      "Encountered error while trying to install package.\n",
      "\n",
      "camel-kenlm\n",
      "\n",
      "note: This is an issue with the package mentioned above, not pip.\n",
      "hint: See above for output from the failure.\n"
     ]
    }
   ],
   "source": [
    "!pip install camel-tools"
   ]
  },
  {
   "cell_type": "code",
   "execution_count": 109,
   "id": "171878dc",
   "metadata": {},
   "outputs": [
    {
     "name": "stdout",
     "output_type": "stream",
     "text": [
      "Collecting camel-tools\n",
      "  Using cached camel_tools-1.4.1-py3-none-any.whl (114 kB)\n",
      "Requirement already satisfied: tqdm in c:\\users\\emz\\anaconda3\\lib\\site-packages (from camel-tools) (4.64.0)\n",
      "Collecting emoji\n",
      "  Using cached emoji-2.1.0-py3-none-any.whl\n",
      "Requirement already satisfied: requests in c:\\users\\emz\\anaconda3\\lib\\site-packages (from camel-tools) (2.27.1)\n",
      "Requirement already satisfied: dill in c:\\users\\emz\\anaconda3\\lib\\site-packages (from camel-tools) (0.3.5.1)\n",
      "Requirement already satisfied: six in c:\\users\\emz\\anaconda3\\lib\\site-packages (from camel-tools) (1.16.0)\n",
      "Requirement already satisfied: future in c:\\users\\emz\\anaconda3\\lib\\site-packages (from camel-tools) (0.18.2)\n",
      "Requirement already satisfied: numpy in c:\\users\\emz\\anaconda3\\lib\\site-packages (from camel-tools) (1.21.5)\n",
      "Requirement already satisfied: scipy in c:\\users\\emz\\anaconda3\\lib\\site-packages (from camel-tools) (1.7.3)\n",
      "Requirement already satisfied: transformers>=3.0.2 in c:\\users\\emz\\anaconda3\\lib\\site-packages (from camel-tools) (4.18.0)\n",
      "Collecting editdistance\n",
      "  Using cached editdistance-0.6.0-cp39-cp39-win_amd64.whl (24 kB)\n",
      "Requirement already satisfied: pandas in c:\\users\\emz\\anaconda3\\lib\\site-packages (from camel-tools) (1.4.2)\n",
      "Requirement already satisfied: tabulate in c:\\users\\emz\\anaconda3\\lib\\site-packages (from camel-tools) (0.8.9)\n",
      "Requirement already satisfied: cachetools in c:\\users\\emz\\anaconda3\\lib\\site-packages (from camel-tools) (4.2.2)\n",
      "Requirement already satisfied: docopt in c:\\users\\emz\\anaconda3\\lib\\site-packages (from camel-tools) (0.6.2)\n",
      "Requirement already satisfied: pyrsistent in c:\\users\\emz\\anaconda3\\lib\\site-packages (from camel-tools) (0.18.0)\n",
      "Requirement already satisfied: torch>=1.3 in c:\\users\\emz\\anaconda3\\lib\\site-packages (from camel-tools) (1.10.2)\n",
      "Collecting camel-kenlm\n",
      "  Using cached camel-kenlm-2021.12.27.tar.gz (418 kB)\n",
      "  Preparing metadata (setup.py): started\n",
      "  Preparing metadata (setup.py): finished with status 'done'\n",
      "Requirement already satisfied: scikit-learn in c:\\users\\emz\\anaconda3\\lib\\site-packages (from camel-tools) (1.0.2)\n",
      "Requirement already satisfied: typing_extensions in c:\\users\\emz\\anaconda3\\lib\\site-packages (from torch>=1.3->camel-tools) (4.1.1)\n",
      "Requirement already satisfied: tokenizers!=0.11.3,<0.13,>=0.11.1 in c:\\users\\emz\\anaconda3\\lib\\site-packages (from transformers>=3.0.2->camel-tools) (0.12.1)\n",
      "Requirement already satisfied: filelock in c:\\users\\emz\\anaconda3\\lib\\site-packages (from transformers>=3.0.2->camel-tools) (3.6.0)\n",
      "Requirement already satisfied: sacremoses in c:\\users\\emz\\anaconda3\\lib\\site-packages (from transformers>=3.0.2->camel-tools) (0.0.53)\n",
      "Requirement already satisfied: pyyaml>=5.1 in c:\\users\\emz\\anaconda3\\lib\\site-packages (from transformers>=3.0.2->camel-tools) (6.0)\n",
      "Requirement already satisfied: packaging>=20.0 in c:\\users\\emz\\anaconda3\\lib\\site-packages (from transformers>=3.0.2->camel-tools) (21.3)\n",
      "Note: you may need to restart the kernel to use updated packages.Requirement already satisfied: regex!=2019.12.17 in c:\\users\\emz\\anaconda3\\lib\\site-packages (from transformers>=3.0.2->camel-tools) (2022.3.15)\n",
      "Requirement already satisfied: huggingface-hub<1.0,>=0.1.0 in c:\\users\\emz\\anaconda3\\lib\\site-packages (from transformers>=3.0.2->camel-tools) (0.8.1)\n",
      "Requirement already satisfied: colorama in c:\\users\\emz\\anaconda3\\lib\\site-packages (from tqdm->camel-tools) (0.4.4)\n",
      "Requirement already satisfied: pytz>=2020.1 in c:\\users\\emz\\anaconda3\\lib\\site-packages (from pandas->camel-tools) (2021.3)\n",
      "Requirement already satisfied: python-dateutil>=2.8.1 in c:\\users\\emz\\anaconda3\\lib\\site-packages (from pandas->camel-tools) (2.8.2)\n",
      "Requirement already satisfied: charset-normalizer~=2.0.0 in c:\\users\\emz\\anaconda3\\lib\\site-packages (from requests->camel-tools) (2.0.4)\n",
      "Requirement already satisfied: certifi>=2017.4.17 in c:\\users\\emz\\anaconda3\\lib\\site-packages (from requests->camel-tools) (2022.6.15)\n",
      "Requirement already satisfied: urllib3<1.27,>=1.21.1 in c:\\users\\emz\\anaconda3\\lib\\site-packages (from requests->camel-tools) (1.26.9)\n",
      "Requirement already satisfied: idna<4,>=2.5 in c:\\users\\emz\\anaconda3\\lib\\site-packages (from requests->camel-tools) (3.3)\n",
      "Requirement already satisfied: joblib>=0.11 in c:\\users\\emz\\anaconda3\\lib\\site-packages (from scikit-learn->camel-tools) (1.1.0)\n",
      "Requirement already satisfied: threadpoolctl>=2.0.0 in c:\\users\\emz\\anaconda3\\lib\\site-packages (from scikit-learn->camel-tools) (2.2.0)\n",
      "Requirement already satisfied: pyparsing!=3.0.5,>=2.0.2 in c:\\users\\emz\\anaconda3\\lib\\site-packages (from packaging>=20.0->transformers>=3.0.2->camel-tools) (3.0.4)\n",
      "Requirement already satisfied: click in c:\\users\\emz\\anaconda3\\lib\\site-packages (from sacremoses->transformers>=3.0.2->camel-tools) (8.0.4)\n",
      "Building wheels for collected packages: camel-kenlm\n",
      "\n"
     ]
    },
    {
     "name": "stderr",
     "output_type": "stream",
     "text": [
      "  error: subprocess-exited-with-error\n",
      "  \n",
      "  python setup.py bdist_wheel did not run successfully.\n",
      "  exit code: 1\n",
      "  \n",
      "  [11 lines of output]\n",
      "  'bash' is not recognized as an internal or external command,\n",
      "  operable program or batch file.\n",
      "  'bash' is not recognized as an internal or external command,\n",
      "  operable program or batch file.\n",
      "  'bash' is not recognized as an internal or external command,\n",
      "  operable program or batch file.\n",
      "  running bdist_wheel\n",
      "  running build\n",
      "  running build_ext\n",
      "  building 'kenlm' extension\n",
      "  error: Microsoft Visual C++ 14.0 or greater is required. Get it with \"Microsoft C++ Build Tools\": https://visualstudio.microsoft.com/visual-cpp-build-tools/\n",
      "  [end of output]\n",
      "  \n",
      "  note: This error originates from a subprocess, and is likely not a problem with pip.\n",
      "  ERROR: Failed building wheel for camel-kenlm\n",
      "  error: subprocess-exited-with-error\n",
      "  \n",
      "  Running setup.py install for camel-kenlm did not run successfully.\n",
      "  exit code: 1\n",
      "  \n",
      "  [13 lines of output]\n",
      "  'bash' is not recognized as an internal or external command,\n",
      "  operable program or batch file.\n",
      "  'bash' is not recognized as an internal or external command,\n",
      "  operable program or batch file.\n",
      "  'bash' is not recognized as an internal or external command,\n",
      "  operable program or batch file.\n",
      "  running install\n",
      "  C:\\Users\\EMZ\\anaconda3\\lib\\site-packages\\setuptools\\command\\install.py:34: SetuptoolsDeprecationWarning: setup.py install is deprecated. Use build and pip and other standards-based tools.\n",
      "    warnings.warn(\n",
      "  running build\n",
      "  running build_ext\n",
      "  building 'kenlm' extension\n",
      "  error: Microsoft Visual C++ 14.0 or greater is required. Get it with \"Microsoft C++ Build Tools\": https://visualstudio.microsoft.com/visual-cpp-build-tools/\n",
      "  [end of output]\n",
      "  \n",
      "  note: This error originates from a subprocess, and is likely not a problem with pip.\n",
      "error: legacy-install-failure\n",
      "\n",
      "Encountered error while trying to install package.\n",
      "\n",
      "camel-kenlm\n",
      "\n",
      "note: This is an issue with the package mentioned above, not pip.\n",
      "hint: See above for output from the failure.\n"
     ]
    },
    {
     "name": "stdout",
     "output_type": "stream",
     "text": [
      "  Building wheel for camel-kenlm (setup.py): started\n",
      "  Building wheel for camel-kenlm (setup.py): finished with status 'error'\n",
      "  Running setup.py clean for camel-kenlm\n",
      "Failed to build camel-kenlm\n",
      "Installing collected packages: camel-kenlm, emoji, editdistance, camel-tools\n",
      "  Running setup.py install for camel-kenlm: started\n",
      "  Running setup.py install for camel-kenlm: finished with status 'error'\n"
     ]
    }
   ],
   "source": [
    "pip install camel-tools"
   ]
  },
  {
   "cell_type": "code",
   "execution_count": null,
   "id": "3631acd8",
   "metadata": {},
   "outputs": [],
   "source": []
  },
  {
   "cell_type": "code",
   "execution_count": 110,
   "id": "b2e52dbb",
   "metadata": {},
   "outputs": [],
   "source": [
    "from nltk.stem import ISRIStemmer"
   ]
  },
  {
   "cell_type": "code",
   "execution_count": 111,
   "id": "257773db",
   "metadata": {},
   "outputs": [],
   "source": [
    "ar_stem = ISRIStemmer()"
   ]
  },
  {
   "cell_type": "code",
   "execution_count": 112,
   "id": "4ec9ce31",
   "metadata": {},
   "outputs": [
    {
     "name": "stdout",
     "output_type": "stream",
     "text": [
      "نصح\n"
     ]
    }
   ],
   "source": [
    "print(ar_stem.stem(\"نصيحة\"))"
   ]
  },
  {
   "cell_type": "code",
   "execution_count": 113,
   "id": "34e5af09",
   "metadata": {},
   "outputs": [
    {
     "name": "stdout",
     "output_type": "stream",
     "text": [
      "نصح\n"
     ]
    }
   ],
   "source": [
    "print(ar_stem.stem(\"نصيحه\"))"
   ]
  },
  {
   "cell_type": "code",
   "execution_count": 114,
   "id": "babfd310",
   "metadata": {},
   "outputs": [],
   "source": [
    "from tashaphyne.stemming import ArabicLightStemmer"
   ]
  },
  {
   "cell_type": "code",
   "execution_count": 115,
   "id": "06ba1043",
   "metadata": {},
   "outputs": [],
   "source": [
    "t_ar_stemmer = ArabicLightStemmer()"
   ]
  },
  {
   "cell_type": "code",
   "execution_count": 117,
   "id": "02dd4e81",
   "metadata": {},
   "outputs": [
    {
     "name": "stdout",
     "output_type": "stream",
     "text": [
      "صيح\n"
     ]
    }
   ],
   "source": [
    "print(t_ar_stemmer.light_stem(\"نصيحه\"))"
   ]
  },
  {
   "cell_type": "code",
   "execution_count": null,
   "id": "cc798d6c",
   "metadata": {},
   "outputs": [],
   "source": []
  }
 ],
 "metadata": {
  "kernelspec": {
   "display_name": "Python 3 (ipykernel)",
   "language": "python",
   "name": "python3"
  },
  "language_info": {
   "codemirror_mode": {
    "name": "ipython",
    "version": 3
   },
   "file_extension": ".py",
   "mimetype": "text/x-python",
   "name": "python",
   "nbconvert_exporter": "python",
   "pygments_lexer": "ipython3",
   "version": "3.9.12"
  }
 },
 "nbformat": 4,
 "nbformat_minor": 5
}
